{
 "cells": [
  {
   "cell_type": "code",
   "execution_count": 112,
   "metadata": {},
   "outputs": [],
   "source": [
    "from flask import Flask, render_template, request, session\n",
    "import pandas as pd\n",
    "from tensorflow.keras.models import load_model\n",
    "import numpy as np"
   ]
  },
  {
   "cell_type": "code",
   "execution_count": 113,
   "metadata": {},
   "outputs": [],
   "source": [
    "app = Flask(__name__)\n",
    "app.secret_key = b'_5#y2L\"F4Q8z\\n\\xec]/'"
   ]
  },
  {
   "cell_type": "code",
   "execution_count": 114,
   "metadata": {},
   "outputs": [],
   "source": [
    "model = load_model('model.h5')"
   ]
  },
  {
   "cell_type": "code",
   "execution_count": 115,
   "metadata": {},
   "outputs": [],
   "source": [
    "def process_csv(csv_file):\n",
    "    df = pd.read_csv(csv_file)\n",
    "    return df\n",
    "\n",
    "@app.route('/')\n",
    "def index():\n",
    "    return render_template('index.html')\n",
    "\n",
    "@app.route('/upload', methods=['POST'])\n",
    "def upload():\n",
    "    csv_file = request.files['csv_file']\n",
    "    session['csv_data'] = pd.read_csv(csv_file).to_json()\n",
    "    image_file = request.files['image_file']\n",
    "    image_url = 'static/' + image_file.filename\n",
    "    image_file.save(image_url)\n",
    "    csv_data_html = pd.read_json(session['csv_data']).to_html(index=False)\n",
    "    return render_template('index.html', csv_data=csv_data_html, image_url=image_url)\n",
    "\n",
    "@app.route('/detect', methods=['POST'])\n",
    "def detect():\n",
    "    csv_data = pd.read_json(session.get('csv_data', '[]'))\n",
    "    if csv_data.empty:\n",
    "        return \"CSV data not found\"\n",
    "    prediction = model.predict(np.array(csv_data))\n",
    "    detection_result = \"Fake Tweet\" if prediction > 0.5 else \"Real Tweet\"\n",
    "    return render_template('index.html', detection_result=detection_result)\n"
   ]
  },
  {
   "cell_type": "code",
   "execution_count": 116,
   "metadata": {},
   "outputs": [
    {
     "name": "stdout",
     "output_type": "stream",
     "text": [
      " * Serving Flask app '__main__'\n",
      " * Debug mode: on\n"
     ]
    },
    {
     "name": "stderr",
     "output_type": "stream",
     "text": [
      "WARNING: This is a development server. Do not use it in a production deployment. Use a production WSGI server instead.\n",
      " * Running on http://127.0.0.1:5000\n",
      "Press CTRL+C to quit\n",
      "127.0.0.1 - - [08/May/2024 09:17:36] \"GET / HTTP/1.1\" 200 -\n",
      "127.0.0.1 - - [08/May/2024 09:17:36] \"GET /favicon.ico HTTP/1.1\" 404 -\n",
      "127.0.0.1 - - [08/May/2024 09:17:55] \"POST /upload HTTP/1.1\" 200 -\n",
      "127.0.0.1 - - [08/May/2024 09:17:55] \"GET /static/Tweet.png HTTP/1.1\" 200 -\n"
     ]
    },
    {
     "name": "stdout",
     "output_type": "stream",
     "text": [
      "1/1 [==============================] - 0s 170ms/step\n"
     ]
    },
    {
     "name": "stderr",
     "output_type": "stream",
     "text": [
      "127.0.0.1 - - [08/May/2024 09:18:15] \"POST /detect HTTP/1.1\" 200 -\n"
     ]
    }
   ],
   "source": [
    "if __name__ == '__main__':\n",
    "    app.run(debug=True, use_reloader=False)"
   ]
  }
 ],
 "metadata": {
  "kernelspec": {
   "display_name": "Python 3",
   "language": "python",
   "name": "python3"
  },
  "language_info": {
   "codemirror_mode": {
    "name": "ipython",
    "version": 3
   },
   "file_extension": ".py",
   "mimetype": "text/x-python",
   "name": "python",
   "nbconvert_exporter": "python",
   "pygments_lexer": "ipython3",
   "version": "3.11.3"
  }
 },
 "nbformat": 4,
 "nbformat_minor": 2
}
