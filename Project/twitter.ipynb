{
 "cells": [
  {
   "cell_type": "code",
   "execution_count": 1,
   "id": "1c58ac52",
   "metadata": {},
   "outputs": [
    {
     "name": "stdout",
     "output_type": "stream",
     "text": [
      "Defaulting to user installation because normal site-packages is not writeable\n",
      "Requirement already satisfied: ntscraper in c:\\users\\ramya\\appdata\\roaming\\python\\python311\\site-packages (0.3.13)\n",
      "Requirement already satisfied: requests in c:\\programdata\\anaconda3\\lib\\site-packages (from ntscraper) (2.31.0)\n",
      "Requirement already satisfied: beautifulsoup4 in c:\\programdata\\anaconda3\\lib\\site-packages (from ntscraper) (4.12.2)\n",
      "Requirement already satisfied: lxml in c:\\programdata\\anaconda3\\lib\\site-packages (from ntscraper) (4.9.3)\n",
      "Requirement already satisfied: soupsieve>1.2 in c:\\programdata\\anaconda3\\lib\\site-packages (from beautifulsoup4->ntscraper) (2.4)\n",
      "Requirement already satisfied: charset-normalizer<4,>=2 in c:\\programdata\\anaconda3\\lib\\site-packages (from requests->ntscraper) (2.0.4)\n",
      "Requirement already satisfied: idna<4,>=2.5 in c:\\programdata\\anaconda3\\lib\\site-packages (from requests->ntscraper) (3.4)\n",
      "Requirement already satisfied: urllib3<3,>=1.21.1 in c:\\programdata\\anaconda3\\lib\\site-packages (from requests->ntscraper) (1.26.16)\n",
      "Requirement already satisfied: certifi>=2017.4.17 in c:\\programdata\\anaconda3\\lib\\site-packages (from requests->ntscraper) (2023.7.22)\n",
      "Note: you may need to restart the kernel to use updated packages.\n"
     ]
    }
   ],
   "source": [
    "pip install ntscraper"
   ]
  },
  {
   "cell_type": "code",
   "execution_count": 2,
   "id": "be2a1e31",
   "metadata": {},
   "outputs": [],
   "source": [
    "from ntscraper import Nitter"
   ]
  },
  {
   "cell_type": "code",
   "execution_count": 3,
   "id": "8b37ec92",
   "metadata": {
    "scrolled": false
   },
   "outputs": [
    {
     "name": "stderr",
     "output_type": "stream",
     "text": [
      "Testing instances:  92%|█████████▏| 71/77 [06:10<00:37,  6.25s/it]"
     ]
    },
    {
     "name": "stdout",
     "output_type": "stream",
     "text": [
      "07-May-24 21:56:45 - Certificate did not match expected hostname: nt.ggtyler.dev. Certificate: {'subject': ((('commonName', '4g.ggtyler.dev'),),), 'issuer': ((('countryName', 'US'),), (('organizationName', \"Let's Encrypt\"),), (('commonName', 'R3'),)), 'version': 3, 'serialNumber': '048FA3D68DCD65927A6C57C2A3C9C1F8CA14', 'notBefore': 'Mar 15 00:26:35 2024 GMT', 'notAfter': 'Jun 13 00:26:34 2024 GMT', 'subjectAltName': (('DNS', '4g.ggtyler.dev'),), 'OCSP': ('http://r3.o.lencr.org',), 'caIssuers': ('http://r3.i.lencr.org/',)}\n"
     ]
    },
    {
     "name": "stderr",
     "output_type": "stream",
     "text": [
      "Testing instances:  95%|█████████▍| 73/77 [06:17<00:19,  4.96s/it]"
     ]
    },
    {
     "name": "stdout",
     "output_type": "stream",
     "text": [
      "07-May-24 21:57:03 - Certificate did not match expected hostname: nitter.uni-sonia.com. Certificate: {'subject': ((('commonName', '*.xserver.jp'),),), 'issuer': ((('countryName', 'JP'),), (('organizationName', 'CloudSecure Corporation'),), (('commonName', 'CloudSecure RSA Domain Validation Secure Server CA 2'),)), 'version': 3, 'serialNumber': 'ACA67AD2030638EE2DCE8E845B8299A6', 'notBefore': 'Mar 11 00:00:00 2024 GMT', 'notAfter': 'Apr 11 23:59:59 2025 GMT', 'subjectAltName': (('DNS', '*.xserver.jp'), ('DNS', 'xserver.jp')), 'OCSP': ('http://ocsp.sectigo.com',), 'caIssuers': ('http://crt.sectigo.com/CloudSecureRSADomainValidationSecureServerCA2.crt',)}\n"
     ]
    },
    {
     "name": "stderr",
     "output_type": "stream",
     "text": [
      "Testing instances: 100%|██████████| 77/77 [07:19<00:00,  5.71s/it]\n"
     ]
    }
   ],
   "source": [
    "scraper = Nitter(log_level = 1, skip_instance_check = False)"
   ]
  },
  {
   "cell_type": "code",
   "execution_count": 33,
   "id": "26738861",
   "metadata": {},
   "outputs": [
    {
     "name": "stdout",
     "output_type": "stream",
     "text": [
      "07-May-24 22:56:07 - No instance specified, using random instance https://nitter.esmailelbob.xyz\n",
      "07-May-24 22:56:16 - Current stats for theapplehub: 10 tweets, 0 threads...\n"
     ]
    }
   ],
   "source": [
    "tweets=scraper.get_tweets(\"theapplehub\", mode=\"user\", number=10)"
   ]
  },
  {
   "cell_type": "code",
   "execution_count": 34,
   "id": "2d8daef0",
   "metadata": {},
   "outputs": [],
   "source": [
    "from pprint import pprint"
   ]
  },
  {
   "cell_type": "code",
   "execution_count": 35,
   "id": "c0ed6ecb",
   "metadata": {},
   "outputs": [
    {
     "name": "stdout",
     "output_type": "stream",
     "text": [
      "{'threads': [],\n",
      " 'tweets': [{'date': 'Apr 16, 2024 · 9:30 PM UTC',\n",
      "             'external-link': '',\n",
      "             'gifs': [],\n",
      "             'is-pinned': True,\n",
      "             'is-retweet': False,\n",
      "             'link': 'https://twitter.com/theapplehub/status/1780348147962704215#m',\n",
      "             'pictures': ['https://pbs.twimg.com/media/GLURMfDWQAAquhD.jpg',\n",
      "                          'https://pbs.twimg.com/media/GLURMe-WAAAalT8.jpg',\n",
      "                          'https://pbs.twimg.com/media/GLURMezWkAAzgvr.jpg'],\n",
      "             'quoted-post': {},\n",
      "             'replying-to': [],\n",
      "             'stats': {'comments': 84,\n",
      "                       'likes': 3946,\n",
      "                       'quotes': 16,\n",
      "                       'retweets': 401},\n",
      "             'text': 'Here is the Apple Buyer’s Guide for April! (see '\n",
      "                     'thread)   New products are expected to launch next '\n",
      "                     'month!',\n",
      "             'user': {'avatar': 'https://pbs.twimg.com/profile_images/1521011653222932481/S1BEvjDb_bigger.jpg',\n",
      "                      'name': 'Apple Hub',\n",
      "                      'profile_id': '1521011653222932481',\n",
      "                      'username': '@theapplehub'},\n",
      "             'videos': []},\n",
      "            {'date': 'May 7, 2024 · 3:50 PM UTC',\n",
      "             'external-link': '',\n",
      "             'gifs': [],\n",
      "             'is-pinned': False,\n",
      "             'is-retweet': False,\n",
      "             'link': 'https://twitter.com/theapplehub/status/1787872547733926004#m',\n",
      "             'pictures': ['https://pbs.twimg.com/media/GM_Mmv5bQAASVx9.jpg'],\n",
      "             'quoted-post': {},\n",
      "             'replying-to': [],\n",
      "             'stats': {'comments': 69,\n",
      "                       'likes': 853,\n",
      "                       'quotes': 40,\n",
      "                       'retweets': 57},\n",
      "             'text': 'The most expensive iPad Pro configuration with Apple '\n",
      "                     'Pencil Pro + Magic Keyboard costs over $3,000 😳',\n",
      "             'user': {'avatar': 'https://pbs.twimg.com/profile_images/1521011653222932481/S1BEvjDb_bigger.jpg',\n",
      "                      'name': 'Apple Hub',\n",
      "                      'profile_id': '1521011653222932481',\n",
      "                      'username': '@theapplehub'},\n",
      "             'videos': []},\n",
      "            {'date': 'May 7, 2024 · 3:30 PM UTC',\n",
      "             'external-link': '',\n",
      "             'gifs': [],\n",
      "             'is-pinned': False,\n",
      "             'is-retweet': False,\n",
      "             'link': 'https://twitter.com/theapplehub/status/1787867709902090677#m',\n",
      "             'pictures': ['https://pbs.twimg.com/media/GM_IMunaAAA4ovB.jpg'],\n",
      "             'quoted-post': {},\n",
      "             'replying-to': [],\n",
      "             'stats': {'comments': 34,\n",
      "                       'likes': 1267,\n",
      "                       'quotes': 28,\n",
      "                       'retweets': 191},\n",
      "             'text': 'The new Apple Pencil lineup 😵\\u200d💫',\n",
      "             'user': {'avatar': 'https://pbs.twimg.com/profile_images/1521011653222932481/S1BEvjDb_bigger.jpg',\n",
      "                      'name': 'Apple Hub',\n",
      "                      'profile_id': '1521011653222932481',\n",
      "                      'username': '@theapplehub'},\n",
      "             'videos': []},\n",
      "            {'date': 'May 7, 2024 · 2:41 PM UTC',\n",
      "             'external-link': '',\n",
      "             'gifs': [],\n",
      "             'is-pinned': False,\n",
      "             'is-retweet': False,\n",
      "             'link': 'https://twitter.com/theapplehub/status/1787855187144815031#m',\n",
      "             'pictures': ['https://pbs.twimg.com/media/GM-8q8maIAEHYyF.jpg'],\n",
      "             'quoted-post': {},\n",
      "             'replying-to': [],\n",
      "             'stats': {'comments': 130,\n",
      "                       'likes': 780,\n",
      "                       'quotes': 15,\n",
      "                       'retweets': 37},\n",
      "             'text': \"And that's a wrap! What did you think of the event? \"\n",
      "                     '#AppleEvent',\n",
      "             'user': {'avatar': 'https://pbs.twimg.com/profile_images/1521011653222932481/S1BEvjDb_bigger.jpg',\n",
      "                      'name': 'Apple Hub',\n",
      "                      'profile_id': '1521011653222932481',\n",
      "                      'username': '@theapplehub'},\n",
      "             'videos': []},\n",
      "            {'date': 'May 7, 2024 · 2:39 PM UTC',\n",
      "             'external-link': '',\n",
      "             'gifs': [],\n",
      "             'is-pinned': False,\n",
      "             'is-retweet': False,\n",
      "             'link': 'https://twitter.com/theapplehub/status/1787854831392321635#m',\n",
      "             'pictures': ['https://pbs.twimg.com/media/GM-8aRla0AAL1zH.jpg'],\n",
      "             'quoted-post': {},\n",
      "             'replying-to': [],\n",
      "             'stats': {'comments': 27,\n",
      "                       'likes': 1674,\n",
      "                       'quotes': 48,\n",
      "                       'retweets': 174},\n",
      "             'text': 'The iPad (10th gen) is now available at a lower price '\n",
      "                     '#AppleEvent',\n",
      "             'user': {'avatar': 'https://pbs.twimg.com/profile_images/1521011653222932481/S1BEvjDb_bigger.jpg',\n",
      "                      'name': 'Apple Hub',\n",
      "                      'profile_id': '1521011653222932481',\n",
      "                      'username': '@theapplehub'},\n",
      "             'videos': []},\n",
      "            {'date': 'May 7, 2024 · 2:38 PM UTC',\n",
      "             'external-link': '',\n",
      "             'gifs': [],\n",
      "             'is-pinned': False,\n",
      "             'is-retweet': False,\n",
      "             'link': 'https://twitter.com/theapplehub/status/1787854475560210754#m',\n",
      "             'pictures': ['https://pbs.twimg.com/media/GM-8ALpaUAACDsI.jpg'],\n",
      "             'quoted-post': {},\n",
      "             'replying-to': [],\n",
      "             'stats': {'comments': 121,\n",
      "                       'likes': 3899,\n",
      "                       'quotes': 200,\n",
      "                       'retweets': 623},\n",
      "             'text': 'This is the new iPad Pro, available for $999 and $1299 '\n",
      "                     '#AppleEvent',\n",
      "             'user': {'avatar': 'https://pbs.twimg.com/profile_images/1521011653222932481/S1BEvjDb_bigger.jpg',\n",
      "                      'name': 'Apple Hub',\n",
      "                      'profile_id': '1521011653222932481',\n",
      "                      'username': '@theapplehub'},\n",
      "             'videos': []},\n",
      "            {'date': 'May 7, 2024 · 2:37 PM UTC',\n",
      "             'external-link': '',\n",
      "             'gifs': [],\n",
      "             'is-pinned': False,\n",
      "             'is-retweet': False,\n",
      "             'link': 'https://twitter.com/theapplehub/status/1787854209888763974#m',\n",
      "             'pictures': ['https://pbs.twimg.com/media/GM-72n7bwAAqkLA.jpg'],\n",
      "             'quoted-post': {},\n",
      "             'replying-to': [],\n",
      "             'stats': {'comments': 36,\n",
      "                       'likes': 795,\n",
      "                       'quotes': 38,\n",
      "                       'retweets': 126},\n",
      "             'text': 'The new Apple Pencil Pro will be available for $129 '\n",
      "                     '#AppleEvent',\n",
      "             'user': {'avatar': 'https://pbs.twimg.com/profile_images/1521011653222932481/S1BEvjDb_bigger.jpg',\n",
      "                      'name': 'Apple Hub',\n",
      "                      'profile_id': '1521011653222932481',\n",
      "                      'username': '@theapplehub'},\n",
      "             'videos': []},\n",
      "            {'date': 'May 7, 2024 · 2:36 PM UTC',\n",
      "             'external-link': '',\n",
      "             'gifs': [],\n",
      "             'is-pinned': False,\n",
      "             'is-retweet': False,\n",
      "             'link': 'https://twitter.com/theapplehub/status/1787853905231261780#m',\n",
      "             'pictures': ['https://pbs.twimg.com/media/GM-7m8ZbEAEQnr5.jpg'],\n",
      "             'quoted-post': {},\n",
      "             'replying-to': [],\n",
      "             'stats': {'comments': 33,\n",
      "                       'likes': 1625,\n",
      "                       'quotes': 68,\n",
      "                       'retweets': 367},\n",
      "             'text': 'This is the new Apple Pencil Pro #AppleEvent',\n",
      "             'user': {'avatar': 'https://pbs.twimg.com/profile_images/1521011653222932481/S1BEvjDb_bigger.jpg',\n",
      "                      'name': 'Apple Hub',\n",
      "                      'profile_id': '1521011653222932481',\n",
      "                      'username': '@theapplehub'},\n",
      "             'videos': []},\n",
      "            {'date': 'May 7, 2024 · 2:35 PM UTC',\n",
      "             'external-link': '',\n",
      "             'gifs': [],\n",
      "             'is-pinned': False,\n",
      "             'is-retweet': False,\n",
      "             'link': 'https://twitter.com/theapplehub/status/1787853675337232517#m',\n",
      "             'pictures': ['https://pbs.twimg.com/media/GM-7cHtboAAATMI.jpg'],\n",
      "             'quoted-post': {},\n",
      "             'replying-to': [],\n",
      "             'stats': {'comments': 29,\n",
      "                       'likes': 774,\n",
      "                       'quotes': 10,\n",
      "                       'retweets': 102},\n",
      "             'text': 'With the Apple Pencil Pro, you can now squeeze to bring '\n",
      "                     'up a new menu #AppleEvent',\n",
      "             'user': {'avatar': 'https://pbs.twimg.com/profile_images/1521011653222932481/S1BEvjDb_bigger.jpg',\n",
      "                      'name': 'Apple Hub',\n",
      "                      'profile_id': '1521011653222932481',\n",
      "                      'username': '@theapplehub'},\n",
      "             'videos': []},\n",
      "            {'date': 'May 7, 2024 · 2:32 PM UTC',\n",
      "             'external-link': '',\n",
      "             'gifs': [],\n",
      "             'is-pinned': False,\n",
      "             'is-retweet': False,\n",
      "             'link': 'https://twitter.com/theapplehub/status/1787853080509530498#m',\n",
      "             'pictures': ['https://pbs.twimg.com/media/GM-65iwa8AAODP6.jpg'],\n",
      "             'quoted-post': {},\n",
      "             'replying-to': [],\n",
      "             'stats': {'comments': 25,\n",
      "                       'likes': 958,\n",
      "                       'quotes': 18,\n",
      "                       'retweets': 136},\n",
      "             'text': 'Apple introduces the Apple Pencil Pro! #AppleEvent',\n",
      "             'user': {'avatar': 'https://pbs.twimg.com/profile_images/1521011653222932481/S1BEvjDb_bigger.jpg',\n",
      "                      'name': 'Apple Hub',\n",
      "                      'profile_id': '1521011653222932481',\n",
      "                      'username': '@theapplehub'},\n",
      "             'videos': []}]}\n"
     ]
    }
   ],
   "source": [
    "pprint(tweets)"
   ]
  },
  {
   "cell_type": "code",
   "execution_count": 36,
   "id": "3f5a891b",
   "metadata": {},
   "outputs": [
    {
     "data": {
      "text/plain": [
       "dict_keys(['tweets', 'threads'])"
      ]
     },
     "execution_count": 36,
     "metadata": {},
     "output_type": "execute_result"
    }
   ],
   "source": [
    "tweets.keys()"
   ]
  },
  {
   "cell_type": "code",
   "execution_count": 37,
   "id": "504f1481",
   "metadata": {},
   "outputs": [
    {
     "data": {
      "text/plain": [
       "{'link': 'https://twitter.com/theapplehub/status/1780348147962704215#m',\n",
       " 'text': 'Here is the Apple Buyer’s Guide for April! (see thread)   New products are expected to launch next month!',\n",
       " 'user': {'name': 'Apple Hub',\n",
       "  'username': '@theapplehub',\n",
       "  'profile_id': '1521011653222932481',\n",
       "  'avatar': 'https://pbs.twimg.com/profile_images/1521011653222932481/S1BEvjDb_bigger.jpg'},\n",
       " 'date': 'Apr 16, 2024 · 9:30 PM UTC',\n",
       " 'is-retweet': False,\n",
       " 'is-pinned': True,\n",
       " 'external-link': '',\n",
       " 'replying-to': [],\n",
       " 'quoted-post': {},\n",
       " 'stats': {'comments': 84, 'retweets': 401, 'quotes': 16, 'likes': 3946},\n",
       " 'pictures': ['https://pbs.twimg.com/media/GLURMfDWQAAquhD.jpg',\n",
       "  'https://pbs.twimg.com/media/GLURMe-WAAAalT8.jpg',\n",
       "  'https://pbs.twimg.com/media/GLURMezWkAAzgvr.jpg'],\n",
       " 'videos': [],\n",
       " 'gifs': []}"
      ]
     },
     "execution_count": 37,
     "metadata": {},
     "output_type": "execute_result"
    }
   ],
   "source": [
    "tweets['tweets'][0]"
   ]
  },
  {
   "cell_type": "code",
   "execution_count": 38,
   "id": "741e808a",
   "metadata": {},
   "outputs": [
    {
     "name": "stdout",
     "output_type": "stream",
     "text": [
      "07-May-24 22:56:16 - No instance specified, using random instance https://nitter.esmailelbob.xyz\n"
     ]
    }
   ],
   "source": [
    "elon_info=scraper.get_profile_info(username=\"theapplehub\")"
   ]
  },
  {
   "cell_type": "code",
   "execution_count": 39,
   "id": "b3c01fc5",
   "metadata": {},
   "outputs": [
    {
     "name": "stdout",
     "output_type": "stream",
     "text": [
      "{'bio': 'The latest Apple news. Not affiliated with Apple Inc.',\n",
      " 'id': '2935618898',\n",
      " 'image': 'https://pbs.twimg.com/profile_images/1521011653222932481/S1BEvjDb_400x400.jpg',\n",
      " 'joined': '3:19 AM - 19 Dec 2014',\n",
      " 'location': 'Los Angeles, CA',\n",
      " 'name': 'Apple Hub',\n",
      " 'stats': {'followers': 867147,\n",
      "           'following': 151,\n",
      "           'likes': 3630,\n",
      "           'media': 0,\n",
      "           'tweets': 6485},\n",
      " 'username': '@theapplehub',\n",
      " 'website': 'http://theapplehub.com'}\n"
     ]
    }
   ],
   "source": [
    "pprint(elon_info)"
   ]
  },
  {
   "cell_type": "code",
   "execution_count": 40,
   "id": "c5366bb4",
   "metadata": {},
   "outputs": [
    {
     "data": {
      "text/plain": [
       "dict_keys(['image', 'name', 'username', 'id', 'bio', 'location', 'website', 'joined', 'stats'])"
      ]
     },
     "execution_count": 40,
     "metadata": {},
     "output_type": "execute_result"
    }
   ],
   "source": [
    "elon_info.keys()"
   ]
  },
  {
   "cell_type": "code",
   "execution_count": 41,
   "id": "25ff4488",
   "metadata": {},
   "outputs": [],
   "source": [
    "data = {\n",
    "    'link':[],\n",
    "    'user':[],\n",
    "    'text':[],\n",
    "    'likes':[],\n",
    "    'retweets':[]\n",
    "}\n",
    "\n",
    "user_data = {\n",
    "    'description':[],\n",
    "    'creation_date':[],\n",
    "    'following':[],\n",
    "    'followers':[],\n",
    "    'history_tweets':[]\n",
    "}\n",
    "\n",
    "for tweet in tweets['tweets']:\n",
    "    data['link'].append(tweet['link'])\n",
    "    data['user'].append(tweet['user']['name'])\n",
    "    data['text'].append(tweet['text'])\n",
    "    data['likes'].append(tweet['stats']['likes'])\n",
    "    data['retweets'].append(tweet['stats']['retweets'])\n",
    "    \n",
    "user_data['description'].append(elon_info['bio'])\n",
    "user_data['creation_date'].append(elon_info['joined'])\n",
    "user_data['following'].append(elon_info['stats']['following'])\n",
    "user_data['followers'].append(elon_info['stats']['followers'])\n",
    "user_data['history_tweets'].append(elon_info['stats']['tweets'])"
   ]
  },
  {
   "cell_type": "code",
   "execution_count": 42,
   "id": "6c95a272",
   "metadata": {},
   "outputs": [
    {
     "data": {
      "text/plain": [
       "{'link': ['https://twitter.com/theapplehub/status/1780348147962704215#m',\n",
       "  'https://twitter.com/theapplehub/status/1787872547733926004#m',\n",
       "  'https://twitter.com/theapplehub/status/1787867709902090677#m',\n",
       "  'https://twitter.com/theapplehub/status/1787855187144815031#m',\n",
       "  'https://twitter.com/theapplehub/status/1787854831392321635#m',\n",
       "  'https://twitter.com/theapplehub/status/1787854475560210754#m',\n",
       "  'https://twitter.com/theapplehub/status/1787854209888763974#m',\n",
       "  'https://twitter.com/theapplehub/status/1787853905231261780#m',\n",
       "  'https://twitter.com/theapplehub/status/1787853675337232517#m',\n",
       "  'https://twitter.com/theapplehub/status/1787853080509530498#m'],\n",
       " 'user': ['Apple Hub',\n",
       "  'Apple Hub',\n",
       "  'Apple Hub',\n",
       "  'Apple Hub',\n",
       "  'Apple Hub',\n",
       "  'Apple Hub',\n",
       "  'Apple Hub',\n",
       "  'Apple Hub',\n",
       "  'Apple Hub',\n",
       "  'Apple Hub'],\n",
       " 'text': ['Here is the Apple Buyer’s Guide for April! (see thread)   New products are expected to launch next month!',\n",
       "  'The most expensive iPad Pro configuration with Apple Pencil Pro + Magic Keyboard costs over $3,000 😳',\n",
       "  'The new Apple Pencil lineup 😵\\u200d💫',\n",
       "  \"And that's a wrap! What did you think of the event? #AppleEvent\",\n",
       "  'The iPad (10th gen) is now available at a lower price #AppleEvent',\n",
       "  'This is the new iPad Pro, available for $999 and $1299 #AppleEvent',\n",
       "  'The new Apple Pencil Pro will be available for $129 #AppleEvent',\n",
       "  'This is the new Apple Pencil Pro #AppleEvent',\n",
       "  'With the Apple Pencil Pro, you can now squeeze to bring up a new menu #AppleEvent',\n",
       "  'Apple introduces the Apple Pencil Pro! #AppleEvent'],\n",
       " 'likes': [3946, 853, 1267, 780, 1674, 3899, 795, 1625, 774, 958],\n",
       " 'retweets': [401, 57, 191, 37, 174, 623, 126, 367, 102, 136]}"
      ]
     },
     "execution_count": 42,
     "metadata": {},
     "output_type": "execute_result"
    }
   ],
   "source": [
    "data"
   ]
  },
  {
   "cell_type": "code",
   "execution_count": 43,
   "id": "c4aac6e7",
   "metadata": {},
   "outputs": [
    {
     "data": {
      "text/plain": [
       "{'description': ['The latest Apple news. Not affiliated with Apple Inc.'],\n",
       " 'creation_date': ['3:19 AM - 19 Dec 2014'],\n",
       " 'following': [151],\n",
       " 'followers': [867147],\n",
       " 'history_tweets': [6485]}"
      ]
     },
     "execution_count": 43,
     "metadata": {},
     "output_type": "execute_result"
    }
   ],
   "source": [
    "user_data"
   ]
  },
  {
   "cell_type": "code",
   "execution_count": 48,
   "id": "a2d199ea",
   "metadata": {},
   "outputs": [
    {
     "data": {
      "text/html": [
       "<div>\n",
       "<style scoped>\n",
       "    .dataframe tbody tr th:only-of-type {\n",
       "        vertical-align: middle;\n",
       "    }\n",
       "\n",
       "    .dataframe tbody tr th {\n",
       "        vertical-align: top;\n",
       "    }\n",
       "\n",
       "    .dataframe thead th {\n",
       "        text-align: right;\n",
       "    }\n",
       "</style>\n",
       "<table border=\"1\" class=\"dataframe\">\n",
       "  <thead>\n",
       "    <tr style=\"text-align: right;\">\n",
       "      <th></th>\n",
       "      <th>link</th>\n",
       "      <th>user</th>\n",
       "      <th>text</th>\n",
       "      <th>likes</th>\n",
       "      <th>retweets</th>\n",
       "    </tr>\n",
       "  </thead>\n",
       "  <tbody>\n",
       "    <tr>\n",
       "      <th>0</th>\n",
       "      <td>https://twitter.com/theapplehub/status/1780348...</td>\n",
       "      <td>Apple Hub</td>\n",
       "      <td>Here is the Apple Buyer’s Guide for April! (se...</td>\n",
       "      <td>3946</td>\n",
       "      <td>401</td>\n",
       "    </tr>\n",
       "    <tr>\n",
       "      <th>1</th>\n",
       "      <td>https://twitter.com/theapplehub/status/1787872...</td>\n",
       "      <td>Apple Hub</td>\n",
       "      <td>The most expensive iPad Pro configuration with...</td>\n",
       "      <td>853</td>\n",
       "      <td>57</td>\n",
       "    </tr>\n",
       "    <tr>\n",
       "      <th>2</th>\n",
       "      <td>https://twitter.com/theapplehub/status/1787867...</td>\n",
       "      <td>Apple Hub</td>\n",
       "      <td>The new Apple Pencil lineup 😵‍💫</td>\n",
       "      <td>1267</td>\n",
       "      <td>191</td>\n",
       "    </tr>\n",
       "    <tr>\n",
       "      <th>3</th>\n",
       "      <td>https://twitter.com/theapplehub/status/1787855...</td>\n",
       "      <td>Apple Hub</td>\n",
       "      <td>And that's a wrap! What did you think of the e...</td>\n",
       "      <td>780</td>\n",
       "      <td>37</td>\n",
       "    </tr>\n",
       "    <tr>\n",
       "      <th>4</th>\n",
       "      <td>https://twitter.com/theapplehub/status/1787854...</td>\n",
       "      <td>Apple Hub</td>\n",
       "      <td>The iPad (10th gen) is now available at a lowe...</td>\n",
       "      <td>1674</td>\n",
       "      <td>174</td>\n",
       "    </tr>\n",
       "    <tr>\n",
       "      <th>5</th>\n",
       "      <td>https://twitter.com/theapplehub/status/1787854...</td>\n",
       "      <td>Apple Hub</td>\n",
       "      <td>This is the new iPad Pro, available for $999 a...</td>\n",
       "      <td>3899</td>\n",
       "      <td>623</td>\n",
       "    </tr>\n",
       "    <tr>\n",
       "      <th>6</th>\n",
       "      <td>https://twitter.com/theapplehub/status/1787854...</td>\n",
       "      <td>Apple Hub</td>\n",
       "      <td>The new Apple Pencil Pro will be available for...</td>\n",
       "      <td>795</td>\n",
       "      <td>126</td>\n",
       "    </tr>\n",
       "    <tr>\n",
       "      <th>7</th>\n",
       "      <td>https://twitter.com/theapplehub/status/1787853...</td>\n",
       "      <td>Apple Hub</td>\n",
       "      <td>This is the new Apple Pencil Pro #AppleEvent</td>\n",
       "      <td>1625</td>\n",
       "      <td>367</td>\n",
       "    </tr>\n",
       "    <tr>\n",
       "      <th>8</th>\n",
       "      <td>https://twitter.com/theapplehub/status/1787853...</td>\n",
       "      <td>Apple Hub</td>\n",
       "      <td>With the Apple Pencil Pro, you can now squeeze...</td>\n",
       "      <td>774</td>\n",
       "      <td>102</td>\n",
       "    </tr>\n",
       "    <tr>\n",
       "      <th>9</th>\n",
       "      <td>https://twitter.com/theapplehub/status/1787853...</td>\n",
       "      <td>Apple Hub</td>\n",
       "      <td>Apple introduces the Apple Pencil Pro! #AppleE...</td>\n",
       "      <td>958</td>\n",
       "      <td>136</td>\n",
       "    </tr>\n",
       "  </tbody>\n",
       "</table>\n",
       "</div>"
      ],
      "text/plain": [
       "                                                link       user  \\\n",
       "0  https://twitter.com/theapplehub/status/1780348...  Apple Hub   \n",
       "1  https://twitter.com/theapplehub/status/1787872...  Apple Hub   \n",
       "2  https://twitter.com/theapplehub/status/1787867...  Apple Hub   \n",
       "3  https://twitter.com/theapplehub/status/1787855...  Apple Hub   \n",
       "4  https://twitter.com/theapplehub/status/1787854...  Apple Hub   \n",
       "5  https://twitter.com/theapplehub/status/1787854...  Apple Hub   \n",
       "6  https://twitter.com/theapplehub/status/1787854...  Apple Hub   \n",
       "7  https://twitter.com/theapplehub/status/1787853...  Apple Hub   \n",
       "8  https://twitter.com/theapplehub/status/1787853...  Apple Hub   \n",
       "9  https://twitter.com/theapplehub/status/1787853...  Apple Hub   \n",
       "\n",
       "                                                text  likes  retweets  \n",
       "0  Here is the Apple Buyer’s Guide for April! (se...   3946       401  \n",
       "1  The most expensive iPad Pro configuration with...    853        57  \n",
       "2                    The new Apple Pencil lineup 😵‍💫   1267       191  \n",
       "3  And that's a wrap! What did you think of the e...    780        37  \n",
       "4  The iPad (10th gen) is now available at a lowe...   1674       174  \n",
       "5  This is the new iPad Pro, available for $999 a...   3899       623  \n",
       "6  The new Apple Pencil Pro will be available for...    795       126  \n",
       "7       This is the new Apple Pencil Pro #AppleEvent   1625       367  \n",
       "8  With the Apple Pencil Pro, you can now squeeze...    774       102  \n",
       "9  Apple introduces the Apple Pencil Pro! #AppleE...    958       136  "
      ]
     },
     "execution_count": 48,
     "metadata": {},
     "output_type": "execute_result"
    }
   ],
   "source": [
    "import pandas as pd\n",
    "tweet_df = pd.DataFrame(data)\n",
    "tweet_df.head(10)"
   ]
  },
  {
   "cell_type": "code",
   "execution_count": 49,
   "id": "c2d2aa0c",
   "metadata": {},
   "outputs": [],
   "source": [
    "tweet_df.to_csv(\"tweet_data.csv\")"
   ]
  },
  {
   "cell_type": "code",
   "execution_count": 50,
   "id": "1a10934d",
   "metadata": {},
   "outputs": [
    {
     "data": {
      "text/html": [
       "<div>\n",
       "<style scoped>\n",
       "    .dataframe tbody tr th:only-of-type {\n",
       "        vertical-align: middle;\n",
       "    }\n",
       "\n",
       "    .dataframe tbody tr th {\n",
       "        vertical-align: top;\n",
       "    }\n",
       "\n",
       "    .dataframe thead th {\n",
       "        text-align: right;\n",
       "    }\n",
       "</style>\n",
       "<table border=\"1\" class=\"dataframe\">\n",
       "  <thead>\n",
       "    <tr style=\"text-align: right;\">\n",
       "      <th></th>\n",
       "      <th>description</th>\n",
       "      <th>creation_date</th>\n",
       "      <th>following</th>\n",
       "      <th>followers</th>\n",
       "      <th>history_tweets</th>\n",
       "    </tr>\n",
       "  </thead>\n",
       "  <tbody>\n",
       "    <tr>\n",
       "      <th>0</th>\n",
       "      <td>The latest Apple news. Not affiliated with App...</td>\n",
       "      <td>3:19 AM - 19 Dec 2014</td>\n",
       "      <td>151</td>\n",
       "      <td>867147</td>\n",
       "      <td>6485</td>\n",
       "    </tr>\n",
       "  </tbody>\n",
       "</table>\n",
       "</div>"
      ],
      "text/plain": [
       "                                         description          creation_date  \\\n",
       "0  The latest Apple news. Not affiliated with App...  3:19 AM - 19 Dec 2014   \n",
       "\n",
       "   following  followers  history_tweets  \n",
       "0        151     867147            6485  "
      ]
     },
     "execution_count": 50,
     "metadata": {},
     "output_type": "execute_result"
    }
   ],
   "source": [
    "user_df = pd.DataFrame(user_data)\n",
    "user_df.head()"
   ]
  },
  {
   "cell_type": "code",
   "execution_count": 51,
   "id": "9f664438",
   "metadata": {},
   "outputs": [],
   "source": [
    "user_df.to_csv(\"user_data.csv\")"
   ]
  },
  {
   "cell_type": "code",
   "execution_count": 63,
   "id": "913d7841",
   "metadata": {},
   "outputs": [
    {
     "data": {
      "text/html": [
       "<div>\n",
       "<style scoped>\n",
       "    .dataframe tbody tr th:only-of-type {\n",
       "        vertical-align: middle;\n",
       "    }\n",
       "\n",
       "    .dataframe tbody tr th {\n",
       "        vertical-align: top;\n",
       "    }\n",
       "\n",
       "    .dataframe thead th {\n",
       "        text-align: right;\n",
       "    }\n",
       "</style>\n",
       "<table border=\"1\" class=\"dataframe\">\n",
       "  <thead>\n",
       "    <tr style=\"text-align: right;\">\n",
       "      <th></th>\n",
       "      <th>link</th>\n",
       "      <th>user</th>\n",
       "      <th>text</th>\n",
       "      <th>likes</th>\n",
       "      <th>retweets</th>\n",
       "      <th>description</th>\n",
       "      <th>creation_date</th>\n",
       "      <th>following</th>\n",
       "      <th>followers</th>\n",
       "      <th>history_tweets</th>\n",
       "    </tr>\n",
       "  </thead>\n",
       "  <tbody>\n",
       "    <tr>\n",
       "      <th>0</th>\n",
       "      <td>https://twitter.com/theapplehub/status/1787854...</td>\n",
       "      <td>Apple Hub</td>\n",
       "      <td>This is the new iPad Pro, available for $999 a...</td>\n",
       "      <td>3899</td>\n",
       "      <td>623</td>\n",
       "      <td>The latest Apple news. Not affiliated with App...</td>\n",
       "      <td>3:19 AM - 19 Dec 2014</td>\n",
       "      <td>151</td>\n",
       "      <td>867147</td>\n",
       "      <td>6485</td>\n",
       "    </tr>\n",
       "  </tbody>\n",
       "</table>\n",
       "</div>"
      ],
      "text/plain": [
       "                                                link       user  \\\n",
       "0  https://twitter.com/theapplehub/status/1787854...  Apple Hub   \n",
       "\n",
       "                                                text likes retweets  \\\n",
       "0  This is the new iPad Pro, available for $999 a...  3899      623   \n",
       "\n",
       "                                         description          creation_date  \\\n",
       "0  The latest Apple news. Not affiliated with App...  3:19 AM - 19 Dec 2014   \n",
       "\n",
       "   following  followers  history_tweets  \n",
       "0        151     867147            6485  "
      ]
     },
     "execution_count": 63,
     "metadata": {},
     "output_type": "execute_result"
    }
   ],
   "source": [
    "tweet_data = tweet_df.iloc[5].to_frame().T\n",
    "user_data = user_df.iloc[[0]]\n",
    "df = pd.concat([tweet_data.reset_index(drop=True),user_data.reset_index(drop=True)], axis=1)\n",
    "df.head()"
   ]
  },
  {
   "cell_type": "code",
   "execution_count": 64,
   "id": "d5c2c8d5",
   "metadata": {},
   "outputs": [
    {
     "name": "stdout",
     "output_type": "stream",
     "text": [
      "<class 'pandas.core.frame.DataFrame'>\n",
      "RangeIndex: 1 entries, 0 to 0\n",
      "Data columns (total 10 columns):\n",
      " #   Column          Non-Null Count  Dtype \n",
      "---  ------          --------------  ----- \n",
      " 0   link            1 non-null      object\n",
      " 1   user            1 non-null      object\n",
      " 2   text            1 non-null      object\n",
      " 3   likes           1 non-null      object\n",
      " 4   retweets        1 non-null      object\n",
      " 5   description     1 non-null      object\n",
      " 6   creation_date   1 non-null      object\n",
      " 7   following       1 non-null      int64 \n",
      " 8   followers       1 non-null      int64 \n",
      " 9   history_tweets  1 non-null      int64 \n",
      "dtypes: int64(3), object(7)\n",
      "memory usage: 212.0+ bytes\n"
     ]
    }
   ],
   "source": [
    "df.info()"
   ]
  },
  {
   "cell_type": "code",
   "execution_count": 66,
   "id": "971a73c5",
   "metadata": {},
   "outputs": [],
   "source": [
    "df.drop(columns=['link', 'user'], inplace=True)"
   ]
  },
  {
   "cell_type": "code",
   "execution_count": 68,
   "id": "40961149",
   "metadata": {},
   "outputs": [
    {
     "data": {
      "text/html": [
       "<div>\n",
       "<style scoped>\n",
       "    .dataframe tbody tr th:only-of-type {\n",
       "        vertical-align: middle;\n",
       "    }\n",
       "\n",
       "    .dataframe tbody tr th {\n",
       "        vertical-align: top;\n",
       "    }\n",
       "\n",
       "    .dataframe thead th {\n",
       "        text-align: right;\n",
       "    }\n",
       "</style>\n",
       "<table border=\"1\" class=\"dataframe\">\n",
       "  <thead>\n",
       "    <tr style=\"text-align: right;\">\n",
       "      <th></th>\n",
       "      <th>text</th>\n",
       "      <th>likes</th>\n",
       "      <th>retweets</th>\n",
       "      <th>description</th>\n",
       "      <th>creation_date</th>\n",
       "      <th>following</th>\n",
       "      <th>followers</th>\n",
       "      <th>history_tweets</th>\n",
       "    </tr>\n",
       "  </thead>\n",
       "  <tbody>\n",
       "    <tr>\n",
       "      <th>0</th>\n",
       "      <td>This is the new iPad Pro, available for $999 a...</td>\n",
       "      <td>3899</td>\n",
       "      <td>623</td>\n",
       "      <td>The latest Apple news. Not affiliated with App...</td>\n",
       "      <td>3:19 AM - 19 Dec 2014</td>\n",
       "      <td>151</td>\n",
       "      <td>867147</td>\n",
       "      <td>6485</td>\n",
       "    </tr>\n",
       "  </tbody>\n",
       "</table>\n",
       "</div>"
      ],
      "text/plain": [
       "                                                text likes retweets  \\\n",
       "0  This is the new iPad Pro, available for $999 a...  3899      623   \n",
       "\n",
       "                                         description          creation_date  \\\n",
       "0  The latest Apple news. Not affiliated with App...  3:19 AM - 19 Dec 2014   \n",
       "\n",
       "   following  followers  history_tweets  \n",
       "0        151     867147            6485  "
      ]
     },
     "execution_count": 68,
     "metadata": {},
     "output_type": "execute_result"
    }
   ],
   "source": [
    "df.head()"
   ]
  },
  {
   "cell_type": "code",
   "execution_count": 69,
   "id": "7d63b419",
   "metadata": {},
   "outputs": [
    {
     "name": "stdout",
     "output_type": "stream",
     "text": [
      "<class 'pandas.core.frame.DataFrame'>\n",
      "RangeIndex: 1 entries, 0 to 0\n",
      "Data columns (total 8 columns):\n",
      " #   Column          Non-Null Count  Dtype \n",
      "---  ------          --------------  ----- \n",
      " 0   text            1 non-null      object\n",
      " 1   likes           1 non-null      object\n",
      " 2   retweets        1 non-null      object\n",
      " 3   description     1 non-null      object\n",
      " 4   creation_date   1 non-null      object\n",
      " 5   following       1 non-null      int64 \n",
      " 6   followers       1 non-null      int64 \n",
      " 7   history_tweets  1 non-null      int64 \n",
      "dtypes: int64(3), object(5)\n",
      "memory usage: 196.0+ bytes\n"
     ]
    }
   ],
   "source": [
    "df.info()"
   ]
  },
  {
   "cell_type": "code",
   "execution_count": 67,
   "id": "e7ac932d",
   "metadata": {},
   "outputs": [],
   "source": [
    "df.to_csv(\"data.csv\")"
   ]
  }
 ],
 "metadata": {
  "kernelspec": {
   "display_name": "Python 3 (ipykernel)",
   "language": "python",
   "name": "python3"
  },
  "language_info": {
   "codemirror_mode": {
    "name": "ipython",
    "version": 3
   },
   "file_extension": ".py",
   "mimetype": "text/x-python",
   "name": "python",
   "nbconvert_exporter": "python",
   "pygments_lexer": "ipython3",
   "version": "3.11.5"
  }
 },
 "nbformat": 4,
 "nbformat_minor": 5
}
