{
  "cells": [
    {
      "cell_type": "code",
      "execution_count": 1,
      "metadata": {
        "colab": {
          "base_uri": "https://localhost:8080/"
        },
        "id": "MlewMzo7KDT8",
        "outputId": "dee592d8-ddb9-49dd-cde5-ba4eaef0d67a"
      },
      "outputs": [],
      "source": [
        "import matplotlib.pyplot as plt\n",
        "import pandas as pd\n",
        "import re"
      ]
    },
    {
      "cell_type": "code",
      "execution_count": 2,
      "metadata": {
        "colab": {
          "base_uri": "https://localhost:8080/",
          "height": 293
        },
        "id": "XYHOT6w_AyRF",
        "outputId": "89f96a89-563a-4a34-edd9-d484d58e4da4"
      },
      "outputs": [
        {
          "data": {
            "text/html": [
              "<div>\n",
              "<style scoped>\n",
              "    .dataframe tbody tr th:only-of-type {\n",
              "        vertical-align: middle;\n",
              "    }\n",
              "\n",
              "    .dataframe tbody tr th {\n",
              "        vertical-align: top;\n",
              "    }\n",
              "\n",
              "    .dataframe thead th {\n",
              "        text-align: right;\n",
              "    }\n",
              "</style>\n",
              "<table border=\"1\" class=\"dataframe\">\n",
              "  <thead>\n",
              "    <tr style=\"text-align: right;\">\n",
              "      <th></th>\n",
              "      <th>tweet_user</th>\n",
              "      <th>tweet_id</th>\n",
              "      <th>like_count</th>\n",
              "      <th>depth</th>\n",
              "      <th>parent_user</th>\n",
              "      <th>create_date</th>\n",
              "      <th>parent_id</th>\n",
              "      <th>retweet_count</th>\n",
              "      <th>post_text</th>\n",
              "      <th>claim_number</th>\n",
              "      <th>group</th>\n",
              "      <th>hashtag</th>\n",
              "    </tr>\n",
              "  </thead>\n",
              "  <tbody>\n",
              "    <tr>\n",
              "      <th>0</th>\n",
              "      <td>64</td>\n",
              "      <td>1260590991641362436</td>\n",
              "      <td>301</td>\n",
              "      <td>0</td>\n",
              "      <td>0</td>\n",
              "      <td>2020-05-13T15:21:27.000Z</td>\n",
              "      <td>0</td>\n",
              "      <td>113</td>\n",
              "      <td>So you left a 69 page guidebook but no PPE or ...</td>\n",
              "      <td>141</td>\n",
              "      <td>1</td>\n",
              "      <td>NaN</td>\n",
              "    </tr>\n",
              "    <tr>\n",
              "      <th>1</th>\n",
              "      <td>135</td>\n",
              "      <td>1288771853822103552</td>\n",
              "      <td>194</td>\n",
              "      <td>0</td>\n",
              "      <td>0</td>\n",
              "      <td>2020-07-30T09:42:08.000Z</td>\n",
              "      <td>0</td>\n",
              "      <td>99</td>\n",
              "      <td>More tales from the NHS frontline are emerging...</td>\n",
              "      <td>138</td>\n",
              "      <td>0</td>\n",
              "      <td>NaN</td>\n",
              "    </tr>\n",
              "    <tr>\n",
              "      <th>2</th>\n",
              "      <td>290</td>\n",
              "      <td>1251209120528637952</td>\n",
              "      <td>7650</td>\n",
              "      <td>0</td>\n",
              "      <td>0</td>\n",
              "      <td>2020-04-17T18:01:15.000Z</td>\n",
              "      <td>0</td>\n",
              "      <td>4279</td>\n",
              "      <td>DEVELOPING: A crowd of protesters could be see...</td>\n",
              "      <td>30</td>\n",
              "      <td>0</td>\n",
              "      <td>NaN</td>\n",
              "    </tr>\n",
              "    <tr>\n",
              "      <th>3</th>\n",
              "      <td>361</td>\n",
              "      <td>1339567071588442113</td>\n",
              "      <td>621</td>\n",
              "      <td>0</td>\n",
              "      <td>0</td>\n",
              "      <td>2020-12-17T13:44:12.000Z</td>\n",
              "      <td>0</td>\n",
              "      <td>231</td>\n",
              "      <td>Latest we expect on checks, *as of now*, per a...</td>\n",
              "      <td>285</td>\n",
              "      <td>3</td>\n",
              "      <td>NaN</td>\n",
              "    </tr>\n",
              "    <tr>\n",
              "      <th>4</th>\n",
              "      <td>457</td>\n",
              "      <td>1265997510738358272</td>\n",
              "      <td>959</td>\n",
              "      <td>0</td>\n",
              "      <td>0</td>\n",
              "      <td>2020-05-28T13:25:02.000Z</td>\n",
              "      <td>0</td>\n",
              "      <td>271</td>\n",
              "      <td>Wisconsin election officials agree to send vot...</td>\n",
              "      <td>35</td>\n",
              "      <td>3</td>\n",
              "      <td>NaN</td>\n",
              "    </tr>\n",
              "  </tbody>\n",
              "</table>\n",
              "</div>"
            ],
            "text/plain": [
              "   tweet_user             tweet_id  like_count  depth  parent_user  \\\n",
              "0          64  1260590991641362436         301      0            0   \n",
              "1         135  1288771853822103552         194      0            0   \n",
              "2         290  1251209120528637952        7650      0            0   \n",
              "3         361  1339567071588442113         621      0            0   \n",
              "4         457  1265997510738358272         959      0            0   \n",
              "\n",
              "                create_date  parent_id  retweet_count  \\\n",
              "0  2020-05-13T15:21:27.000Z          0            113   \n",
              "1  2020-07-30T09:42:08.000Z          0             99   \n",
              "2  2020-04-17T18:01:15.000Z          0           4279   \n",
              "3  2020-12-17T13:44:12.000Z          0            231   \n",
              "4  2020-05-28T13:25:02.000Z          0            271   \n",
              "\n",
              "                                           post_text  claim_number  group  \\\n",
              "0  So you left a 69 page guidebook but no PPE or ...           141      1   \n",
              "1  More tales from the NHS frontline are emerging...           138      0   \n",
              "2  DEVELOPING: A crowd of protesters could be see...            30      0   \n",
              "3  Latest we expect on checks, *as of now*, per a...           285      3   \n",
              "4  Wisconsin election officials agree to send vot...            35      3   \n",
              "\n",
              "  hashtag  \n",
              "0     NaN  \n",
              "1     NaN  \n",
              "2     NaN  \n",
              "3     NaN  \n",
              "4     NaN  "
            ]
          },
          "execution_count": 2,
          "metadata": {},
          "output_type": "execute_result"
        }
      ],
      "source": [
        "claimpropagationpath = \"C:/Users/ramya/Documents/Master Final Project/Phase 2/Project/Twitter - FibVID/FibVID-main/claim_propagation/claim_propagation.csv\"\n",
        "claimpropagationdf = pd.read_csv(claimpropagationpath)\n",
        "claimpropagationdf.head(5)"
      ]
    },
    {
      "cell_type": "code",
      "execution_count": 3,
      "metadata": {
        "colab": {
          "base_uri": "https://localhost:8080/"
        },
        "id": "SnvdeesAGElN",
        "outputId": "bea27c61-8a62-4ed9-89c9-f41604b5ebc9"
      },
      "outputs": [
        {
          "name": "stdout",
          "output_type": "stream",
          "text": [
            "<class 'pandas.core.frame.DataFrame'>\n",
            "RangeIndex: 221253 entries, 0 to 221252\n",
            "Data columns (total 12 columns):\n",
            " #   Column         Non-Null Count   Dtype \n",
            "---  ------         --------------   ----- \n",
            " 0   tweet_user     221253 non-null  int64 \n",
            " 1   tweet_id       221253 non-null  int64 \n",
            " 2   like_count     221253 non-null  int64 \n",
            " 3   depth          221253 non-null  int64 \n",
            " 4   parent_user    221253 non-null  int64 \n",
            " 5   create_date    221253 non-null  object\n",
            " 6   parent_id      221253 non-null  int64 \n",
            " 7   retweet_count  221253 non-null  int64 \n",
            " 8   post_text      217231 non-null  object\n",
            " 9   claim_number   221253 non-null  int64 \n",
            " 10  group          221253 non-null  int64 \n",
            " 11  hashtag        32380 non-null   object\n",
            "dtypes: int64(9), object(3)\n",
            "memory usage: 20.3+ MB\n"
          ]
        }
      ],
      "source": [
        "claimpropagationdf.info()"
      ]
    },
    {
      "cell_type": "code",
      "execution_count": 4,
      "metadata": {
        "id": "06CITmnVgTWd"
      },
      "outputs": [],
      "source": [
        "claimpropagationdf.dropna(subset=['post_text'], inplace=True)"
      ]
    },
    {
      "cell_type": "code",
      "execution_count": 5,
      "metadata": {
        "colab": {
          "base_uri": "https://localhost:8080/"
        },
        "id": "mztlNhWXPylp",
        "outputId": "1a3a935d-3c0a-4305-e931-f23b9cf0f2a5"
      },
      "outputs": [
        {
          "data": {
            "text/plain": [
              "count    217231.000000\n",
              "mean         94.811523\n",
              "std        2314.074015\n",
              "min           0.000000\n",
              "25%           0.000000\n",
              "50%           0.000000\n",
              "75%           1.000000\n",
              "max      673329.000000\n",
              "Name: retweet_count, dtype: float64"
            ]
          },
          "execution_count": 5,
          "metadata": {},
          "output_type": "execute_result"
        }
      ],
      "source": [
        "claimpropagationdf[\"retweet_count\"].describe()"
      ]
    },
    {
      "cell_type": "code",
      "execution_count": 6,
      "metadata": {
        "colab": {
          "base_uri": "https://localhost:8080/"
        },
        "id": "BhyKVgKFQW9W",
        "outputId": "583804c0-fdcc-44e2-e3da-ca0552c53711"
      },
      "outputs": [
        {
          "data": {
            "text/plain": [
              "count    2.172310e+05\n",
              "mean     4.042934e+02\n",
              "std      1.011531e+04\n",
              "min      0.000000e+00\n",
              "25%      0.000000e+00\n",
              "50%      1.000000e+00\n",
              "75%      4.000000e+00\n",
              "max      2.833662e+06\n",
              "Name: like_count, dtype: float64"
            ]
          },
          "execution_count": 6,
          "metadata": {},
          "output_type": "execute_result"
        }
      ],
      "source": [
        "claimpropagationdf[\"like_count\"].describe()"
      ]
    },
    {
      "cell_type": "code",
      "execution_count": 7,
      "metadata": {
        "colab": {
          "base_uri": "https://localhost:8080/"
        },
        "id": "O1ubDYOERGDx",
        "outputId": "42498227-809d-454e-e6bd-f0a6aaceb805"
      },
      "outputs": [
        {
          "data": {
            "text/plain": [
              "count    217231.000000\n",
              "mean          1.842997\n",
              "std           1.028707\n",
              "min           0.000000\n",
              "25%           1.000000\n",
              "50%           2.000000\n",
              "75%           2.000000\n",
              "max           6.000000\n",
              "Name: depth, dtype: float64"
            ]
          },
          "execution_count": 7,
          "metadata": {},
          "output_type": "execute_result"
        }
      ],
      "source": [
        "claimpropagationdf[\"depth\"].describe()"
      ]
    },
    {
      "cell_type": "code",
      "execution_count": 8,
      "metadata": {
        "colab": {
          "base_uri": "https://localhost:8080/"
        },
        "id": "us7KcIUYRRlO",
        "outputId": "939325d6-11ad-4554-dc93-23d8fcf4c5e1"
      },
      "outputs": [
        {
          "name": "stdout",
          "output_type": "stream",
          "text": [
            "1    131059\n",
            "3     46759\n",
            "0     26834\n",
            "2     12579\n",
            "Name: group, dtype: int64\n"
          ]
        }
      ],
      "source": [
        "claimgroupcount = claimpropagationdf[\"group\"].value_counts()\n",
        "print(claimgroupcount)"
      ]
    },
    {
      "cell_type": "code",
      "execution_count": 9,
      "metadata": {
        "colab": {
          "base_uri": "https://localhost:8080/"
        },
        "id": "jKzLXGBnRiJ9",
        "outputId": "096529b6-b218-4d6f-de98-73493367ef12"
      },
      "outputs": [
        {
          "data": {
            "image/png": "[encoded data removed]",
            "text/plain": [
              "<Figure size 600x400 with 1 Axes>"
            ]
          },
          "metadata": {},
          "output_type": "display_data"
        }
      ],
      "source": [
        "plt.figure(figsize=(6, 4))\n",
        "claimgroupcount.plot(kind='bar')\n",
        "plt.title(\"Group Counts\")\n",
        "plt.xlabel(\"Group\")\n",
        "plt.ylabel(\"Count\")\n",
        "plt.xticks(rotation=45)\n",
        "plt.show()"
      ]
    },
    {
      "cell_type": "code",
      "execution_count": 10,
      "metadata": {
        "colab": {
          "base_uri": "https://localhost:8080/"
        },
        "id": "dyXVVZh2IGxb",
        "outputId": "943ffaab-2351-4d51-c2a2-5a4629e365ca"
      },
      "outputs": [
        {
          "data": {
            "text/html": [
              "<div>\n",
              "<style scoped>\n",
              "    .dataframe tbody tr th:only-of-type {\n",
              "        vertical-align: middle;\n",
              "    }\n",
              "\n",
              "    .dataframe tbody tr th {\n",
              "        vertical-align: top;\n",
              "    }\n",
              "\n",
              "    .dataframe thead th {\n",
              "        text-align: right;\n",
              "    }\n",
              "</style>\n",
              "<table border=\"1\" class=\"dataframe\">\n",
              "  <thead>\n",
              "    <tr style=\"text-align: right;\">\n",
              "      <th></th>\n",
              "      <th>following_count</th>\n",
              "      <th>follower_count</th>\n",
              "      <th>creation_date</th>\n",
              "      <th>description</th>\n",
              "      <th>user_id</th>\n",
              "    </tr>\n",
              "  </thead>\n",
              "  <tbody>\n",
              "    <tr>\n",
              "      <th>0</th>\n",
              "      <td>101.0</td>\n",
              "      <td>56.0</td>\n",
              "      <td>2020-03-26 15:57:20</td>\n",
              "      <td>NaN</td>\n",
              "      <td>0</td>\n",
              "    </tr>\n",
              "    <tr>\n",
              "      <th>1</th>\n",
              "      <td>8104.0</td>\n",
              "      <td>22533.0</td>\n",
              "      <td>2015-07-21 22:10:47</td>\n",
              "      <td>People say I’m skeptical, but I don’t believe ...</td>\n",
              "      <td>1</td>\n",
              "    </tr>\n",
              "    <tr>\n",
              "      <th>2</th>\n",
              "      <td>598.0</td>\n",
              "      <td>372.0</td>\n",
              "      <td>2019-02-02 19:01:35</td>\n",
              "      <td>Motorcycles.  Retired merchant Mariner Captain...</td>\n",
              "      <td>2</td>\n",
              "    </tr>\n",
              "    <tr>\n",
              "      <th>3</th>\n",
              "      <td>322.0</td>\n",
              "      <td>203.0</td>\n",
              "      <td>2020-04-01 07:32:57</td>\n",
              "      <td>Cheese, wine, medieval history, licensed foren...</td>\n",
              "      <td>3</td>\n",
              "    </tr>\n",
              "    <tr>\n",
              "      <th>4</th>\n",
              "      <td>102.0</td>\n",
              "      <td>4.0</td>\n",
              "      <td>2020-11-07 13:23:04</td>\n",
              "      <td>NaN</td>\n",
              "      <td>4</td>\n",
              "    </tr>\n",
              "  </tbody>\n",
              "</table>\n",
              "</div>"
            ],
            "text/plain": [
              "   following_count  follower_count        creation_date  \\\n",
              "0            101.0            56.0  2020-03-26 15:57:20   \n",
              "1           8104.0         22533.0  2015-07-21 22:10:47   \n",
              "2            598.0           372.0  2019-02-02 19:01:35   \n",
              "3            322.0           203.0  2020-04-01 07:32:57   \n",
              "4            102.0             4.0  2020-11-07 13:23:04   \n",
              "\n",
              "                                         description  user_id  \n",
              "0                                                NaN        0  \n",
              "1  People say I’m skeptical, but I don’t believe ...        1  \n",
              "2  Motorcycles.  Retired merchant Mariner Captain...        2  \n",
              "3  Cheese, wine, medieval history, licensed foren...        3  \n",
              "4                                                NaN        4  "
            ]
          },
          "execution_count": 10,
          "metadata": {},
          "output_type": "execute_result"
        }
      ],
      "source": [
        "userinfopath = \"C:/Users/ramya/Documents/Master Final Project/Phase 2/Project/Twitter - FibVID/FibVID-main/user_information/user_information.csv\"\n",
        "userinfodf = pd.read_csv(userinfopath)\n",
        "userinfodf.head(5)"
      ]
    },
    {
      "cell_type": "code",
      "execution_count": 11,
      "metadata": {
        "colab": {
          "base_uri": "https://localhost:8080/"
        },
        "id": "v-gLZv7wImyT",
        "outputId": "5cb1af94-4dd1-4c60-b2d7-05e852b30502"
      },
      "outputs": [
        {
          "name": "stdout",
          "output_type": "stream",
          "text": [
            "<class 'pandas.core.frame.DataFrame'>\n",
            "RangeIndex: 144741 entries, 0 to 144740\n",
            "Data columns (total 5 columns):\n",
            " #   Column           Non-Null Count   Dtype  \n",
            "---  ------           --------------   -----  \n",
            " 0   following_count  144741 non-null  float64\n",
            " 1   follower_count   144741 non-null  float64\n",
            " 2   creation_date    142296 non-null  object \n",
            " 3   description      125178 non-null  object \n",
            " 4   user_id          144741 non-null  int64  \n",
            "dtypes: float64(2), int64(1), object(2)\n",
            "memory usage: 5.5+ MB\n"
          ]
        }
      ],
      "source": [
        "userinfodf.info()"
      ]
    },
    {
      "cell_type": "code",
      "execution_count": 12,
      "metadata": {
        "colab": {
          "base_uri": "https://localhost:8080/"
        },
        "id": "bDvWn6ILIsVo",
        "outputId": "f4e1574b-175e-43b6-a799-0f836e753e68"
      },
      "outputs": [
        {
          "data": {
            "text/plain": [
              "count    144741.000000\n",
              "mean       2524.772138\n",
              "std        7547.831679\n",
              "min           0.000000\n",
              "25%         309.000000\n",
              "50%         840.000000\n",
              "75%        2411.000000\n",
              "max      601290.000000\n",
              "Name: following_count, dtype: float64"
            ]
          },
          "execution_count": 12,
          "metadata": {},
          "output_type": "execute_result"
        }
      ],
      "source": [
        "userinfodf['following_count'].describe()"
      ]
    },
    {
      "cell_type": "code",
      "execution_count": 13,
      "metadata": {
        "colab": {
          "base_uri": "https://localhost:8080/"
        },
        "id": "BFUBf0Or3xHF",
        "outputId": "9dac8aa7-d4c1-4d4c-9574-a0be28577a70"
      },
      "outputs": [
        {
          "data": {
            "text/plain": [
              "count    1.447410e+05\n",
              "mean     2.088604e+04\n",
              "std      6.914875e+05\n",
              "min      0.000000e+00\n",
              "25%      1.680000e+02\n",
              "50%      7.030000e+02\n",
              "75%      2.896000e+03\n",
              "max      1.276308e+08\n",
              "Name: follower_count, dtype: float64"
            ]
          },
          "execution_count": 13,
          "metadata": {},
          "output_type": "execute_result"
        }
      ],
      "source": [
        "userinfodf['follower_count'].describe()"
      ]
    },
    {
      "cell_type": "code",
      "execution_count": 14,
      "metadata": {
        "id": "e387YuzgwH7I"
      },
      "outputs": [],
      "source": [
        "df = claimpropagationdf[[\"tweet_id\",\"post_text\",\"tweet_user\",\"parent_id\",\"parent_user\",\"create_date\",\"like_count\",\"retweet_count\",\"hashtag\",\"depth\",\"group\"]].copy()"
      ]
    },
    {
      "cell_type": "code",
      "execution_count": 15,
      "metadata": {
        "id": "TCZ5clbBN3Ou"
      },
      "outputs": [],
      "source": [
        "def count_hashtags(text):\n",
        "    if pd.isna(text):\n",
        "        return 0\n",
        "    count = 1\n",
        "    for char in text:\n",
        "        if char == '#':\n",
        "            count += 1\n",
        "    return count\n",
        "df.insert(7, 'hashtag_count', df['hashtag'].apply(count_hashtags))"
      ]
    },
    {
      "cell_type": "code",
      "execution_count": 16,
      "metadata": {
        "colab": {
          "base_uri": "https://localhost:8080/"
        },
        "id": "0WYNBAllfMQW",
        "outputId": "1b14ece3-7e2e-4a25-9054-b52099d3a780"
      },
      "outputs": [
        {
          "data": {
            "text/plain": [
              "count    217231.000000\n",
              "mean          0.298963\n",
              "std           1.054690\n",
              "min           0.000000\n",
              "25%           0.000000\n",
              "50%           0.000000\n",
              "75%           0.000000\n",
              "max          42.000000\n",
              "Name: hashtag_count, dtype: float64"
            ]
          },
          "execution_count": 16,
          "metadata": {},
          "output_type": "execute_result"
        }
      ],
      "source": [
        "df['hashtag_count'].describe()"
      ]
    },
    {
      "cell_type": "code",
      "execution_count": 17,
      "metadata": {
        "id": "moxWRbC55pCg"
      },
      "outputs": [],
      "source": [
        "def count_mentions(text):\n",
        "    if pd.isna(text):\n",
        "        return 0\n",
        "    mentions = re.findall(r'@(\\w+)', text)\n",
        "    return len(mentions)\n",
        "df['mention_count'] = df['post_text'].apply(count_mentions)"
      ]
    },
    {
      "cell_type": "code",
      "execution_count": 18,
      "metadata": {
        "colab": {
          "base_uri": "https://localhost:8080/"
        },
        "id": "1ITujtzxHCbZ",
        "outputId": "53224461-6d9b-4d16-ebbf-5c61b9bd7cc8"
      },
      "outputs": [
        {
          "data": {
            "text/plain": [
              "count    217231.000000\n",
              "mean          0.355028\n",
              "std           1.847289\n",
              "min           0.000000\n",
              "25%           0.000000\n",
              "50%           0.000000\n",
              "75%           0.000000\n",
              "max          50.000000\n",
              "Name: mention_count, dtype: float64"
            ]
          },
          "execution_count": 18,
          "metadata": {},
          "output_type": "execute_result"
        }
      ],
      "source": [
        "df['mention_count'].describe()"
      ]
    },
    {
      "cell_type": "code",
      "execution_count": 19,
      "metadata": {
        "id": "zPEoAyuJJPdW"
      },
      "outputs": [],
      "source": [
        "def count_question_marks(text):\n",
        "    if pd.isna(text):\n",
        "        return 0\n",
        "    count = 0\n",
        "    for char in text:\n",
        "        if char == '?':\n",
        "            count += 1\n",
        "    return count\n",
        "df['questionmark_count'] = df['post_text'].apply(count_question_marks)"
      ]
    },
    {
      "cell_type": "code",
      "execution_count": 20,
      "metadata": {
        "colab": {
          "base_uri": "https://localhost:8080/"
        },
        "id": "jhhi7-_KJUpE",
        "outputId": "6f390fdf-d36c-459a-ae3c-4a1f61853eca"
      },
      "outputs": [
        {
          "data": {
            "text/plain": [
              "count    217231.000000\n",
              "mean          0.220341\n",
              "std           0.720972\n",
              "min           0.000000\n",
              "25%           0.000000\n",
              "50%           0.000000\n",
              "75%           0.000000\n",
              "max          64.000000\n",
              "Name: questionmark_count, dtype: float64"
            ]
          },
          "execution_count": 20,
          "metadata": {},
          "output_type": "execute_result"
        }
      ],
      "source": [
        "df['questionmark_count'].describe()"
      ]
    },
    {
      "cell_type": "code",
      "execution_count": 21,
      "metadata": {
        "id": "FOH4d-x0K7Qj"
      },
      "outputs": [],
      "source": [
        "def calculate_tweet_length(text):\n",
        "    if pd.isna(text):\n",
        "        return 0\n",
        "    return len(text)\n",
        "df['tweet_length'] = df['post_text'].apply(calculate_tweet_length)"
      ]
    },
    {
      "cell_type": "code",
      "execution_count": 22,
      "metadata": {
        "colab": {
          "base_uri": "https://localhost:8080/"
        },
        "id": "tDwA76KHK98-",
        "outputId": "62f10293-684b-4b5a-9054-26adaef6009a"
      },
      "outputs": [
        {
          "data": {
            "text/plain": [
              "count    217231.000000\n",
              "mean        124.376143\n",
              "std          84.595566\n",
              "min           1.000000\n",
              "25%          57.000000\n",
              "50%          97.000000\n",
              "75%         173.000000\n",
              "max         964.000000\n",
              "Name: tweet_length, dtype: float64"
            ]
          },
          "execution_count": 22,
          "metadata": {},
          "output_type": "execute_result"
        }
      ],
      "source": [
        "df['tweet_length'].describe()"
      ]
    },
    {
      "cell_type": "code",
      "execution_count": 23,
      "metadata": {
        "colab": {
          "base_uri": "https://localhost:8080/"
        },
        "id": "hiZDSQLLGtwK",
        "outputId": "a4472a47-4b57-4433-db79-6cd582fef5e9"
      },
      "outputs": [
        {
          "data": {
            "text/html": [
              "<div>\n",
              "<style scoped>\n",
              "    .dataframe tbody tr th:only-of-type {\n",
              "        vertical-align: middle;\n",
              "    }\n",
              "\n",
              "    .dataframe tbody tr th {\n",
              "        vertical-align: top;\n",
              "    }\n",
              "\n",
              "    .dataframe thead th {\n",
              "        text-align: right;\n",
              "    }\n",
              "</style>\n",
              "<table border=\"1\" class=\"dataframe\">\n",
              "  <thead>\n",
              "    <tr style=\"text-align: right;\">\n",
              "      <th></th>\n",
              "      <th>tweet_id</th>\n",
              "      <th>post_text</th>\n",
              "      <th>tweet_user</th>\n",
              "      <th>parent_id</th>\n",
              "      <th>parent_user</th>\n",
              "      <th>create_date</th>\n",
              "      <th>like_count</th>\n",
              "      <th>hashtag_count</th>\n",
              "      <th>retweet_count</th>\n",
              "      <th>hashtag</th>\n",
              "      <th>depth</th>\n",
              "      <th>group</th>\n",
              "      <th>mention_count</th>\n",
              "      <th>questionmark_count</th>\n",
              "      <th>tweet_length</th>\n",
              "    </tr>\n",
              "  </thead>\n",
              "  <tbody>\n",
              "    <tr>\n",
              "      <th>0</th>\n",
              "      <td>1260590991641362436</td>\n",
              "      <td>So you left a 69 page guidebook but no PPE or ...</td>\n",
              "      <td>64</td>\n",
              "      <td>0</td>\n",
              "      <td>0</td>\n",
              "      <td>2020-05-13T15:21:27.000Z</td>\n",
              "      <td>301</td>\n",
              "      <td>0</td>\n",
              "      <td>113</td>\n",
              "      <td>NaN</td>\n",
              "      <td>0</td>\n",
              "      <td>0</td>\n",
              "      <td>0</td>\n",
              "      <td>0</td>\n",
              "      <td>278</td>\n",
              "    </tr>\n",
              "    <tr>\n",
              "      <th>1</th>\n",
              "      <td>1288771853822103552</td>\n",
              "      <td>More tales from the NHS frontline are emerging...</td>\n",
              "      <td>135</td>\n",
              "      <td>0</td>\n",
              "      <td>0</td>\n",
              "      <td>2020-07-30T09:42:08.000Z</td>\n",
              "      <td>194</td>\n",
              "      <td>0</td>\n",
              "      <td>99</td>\n",
              "      <td>NaN</td>\n",
              "      <td>0</td>\n",
              "      <td>1</td>\n",
              "      <td>1</td>\n",
              "      <td>0</td>\n",
              "      <td>301</td>\n",
              "    </tr>\n",
              "    <tr>\n",
              "      <th>2</th>\n",
              "      <td>1251209120528637952</td>\n",
              "      <td>DEVELOPING: A crowd of protesters could be see...</td>\n",
              "      <td>290</td>\n",
              "      <td>0</td>\n",
              "      <td>0</td>\n",
              "      <td>2020-04-17T18:01:15.000Z</td>\n",
              "      <td>7650</td>\n",
              "      <td>0</td>\n",
              "      <td>4279</td>\n",
              "      <td>NaN</td>\n",
              "      <td>0</td>\n",
              "      <td>1</td>\n",
              "      <td>1</td>\n",
              "      <td>0</td>\n",
              "      <td>302</td>\n",
              "    </tr>\n",
              "    <tr>\n",
              "      <th>3</th>\n",
              "      <td>1339567071588442113</td>\n",
              "      <td>Latest we expect on checks, *as of now*, per a...</td>\n",
              "      <td>361</td>\n",
              "      <td>0</td>\n",
              "      <td>0</td>\n",
              "      <td>2020-12-17T13:44:12.000Z</td>\n",
              "      <td>621</td>\n",
              "      <td>0</td>\n",
              "      <td>231</td>\n",
              "      <td>NaN</td>\n",
              "      <td>0</td>\n",
              "      <td>0</td>\n",
              "      <td>0</td>\n",
              "      <td>0</td>\n",
              "      <td>276</td>\n",
              "    </tr>\n",
              "    <tr>\n",
              "      <th>4</th>\n",
              "      <td>1265997510738358272</td>\n",
              "      <td>Wisconsin election officials agree to send vot...</td>\n",
              "      <td>457</td>\n",
              "      <td>0</td>\n",
              "      <td>0</td>\n",
              "      <td>2020-05-28T13:25:02.000Z</td>\n",
              "      <td>959</td>\n",
              "      <td>0</td>\n",
              "      <td>271</td>\n",
              "      <td>NaN</td>\n",
              "      <td>0</td>\n",
              "      <td>0</td>\n",
              "      <td>0</td>\n",
              "      <td>0</td>\n",
              "      <td>93</td>\n",
              "    </tr>\n",
              "  </tbody>\n",
              "</table>\n",
              "</div>"
            ],
            "text/plain": [
              "              tweet_id                                          post_text  \\\n",
              "0  1260590991641362436  So you left a 69 page guidebook but no PPE or ...   \n",
              "1  1288771853822103552  More tales from the NHS frontline are emerging...   \n",
              "2  1251209120528637952  DEVELOPING: A crowd of protesters could be see...   \n",
              "3  1339567071588442113  Latest we expect on checks, *as of now*, per a...   \n",
              "4  1265997510738358272  Wisconsin election officials agree to send vot...   \n",
              "\n",
              "   tweet_user  parent_id  parent_user               create_date  like_count  \\\n",
              "0          64          0            0  2020-05-13T15:21:27.000Z         301   \n",
              "1         135          0            0  2020-07-30T09:42:08.000Z         194   \n",
              "2         290          0            0  2020-04-17T18:01:15.000Z        7650   \n",
              "3         361          0            0  2020-12-17T13:44:12.000Z         621   \n",
              "4         457          0            0  2020-05-28T13:25:02.000Z         959   \n",
              "\n",
              "   hashtag_count  retweet_count hashtag  depth  group  mention_count  \\\n",
              "0              0            113     NaN      0      0              0   \n",
              "1              0             99     NaN      0      1              1   \n",
              "2              0           4279     NaN      0      1              1   \n",
              "3              0            231     NaN      0      0              0   \n",
              "4              0            271     NaN      0      0              0   \n",
              "\n",
              "   questionmark_count  tweet_length  \n",
              "0                   0           278  \n",
              "1                   0           301  \n",
              "2                   0           302  \n",
              "3                   0           276  \n",
              "4                   0            93  "
            ]
          },
          "execution_count": 23,
          "metadata": {},
          "output_type": "execute_result"
        }
      ],
      "source": [
        "df['group'].replace({0: 1, 1: 0, 2: 1, 3: 0}, inplace=True)\n",
        "df.head(5)"
      ]
    },
    {
      "cell_type": "code",
      "execution_count": 24,
      "metadata": {
        "colab": {
          "base_uri": "https://localhost:8080/"
        },
        "id": "ZBswXZ8vIWEQ",
        "outputId": "db18abaf-dd7c-4219-f6bd-50879034ea32"
      },
      "outputs": [
        {
          "name": "stdout",
          "output_type": "stream",
          "text": [
            "0    177818\n",
            "1     39413\n",
            "Name: group, dtype: int64\n"
          ]
        }
      ],
      "source": [
        "groupcount = df[\"group\"].value_counts()\n",
        "print(groupcount)"
      ]
    },
    {
      "cell_type": "code",
      "execution_count": 25,
      "metadata": {
        "colab": {
          "base_uri": "https://localhost:8080/"
        },
        "id": "NZqfRrflIksR",
        "outputId": "79fa5e40-0717-4395-8c5f-8e4eabcc4f80"
      },
      "outputs": [
        {
          "data": {
            "image/png": "[encoded data removed]",
            "text/plain": [
              "<Figure size 600x400 with 1 Axes>"
            ]
          },
          "metadata": {},
          "output_type": "display_data"
        }
      ],
      "source": [
        "plt.figure(figsize=(6, 4))\n",
        "groupcount.plot(kind='bar')\n",
        "plt.title(\"Group Counts\")\n",
        "plt.xlabel(\"Group\")\n",
        "plt.ylabel(\"Count\")\n",
        "plt.xticks(rotation=45)\n",
        "plt.show()"
      ]
    },
    {
      "cell_type": "code",
      "execution_count": 26,
      "metadata": {
        "colab": {
          "base_uri": "https://localhost:8080/"
        },
        "id": "fQBM_aLYNLT-",
        "outputId": "d667d73b-917b-496f-fd26-beb29c36c14c"
      },
      "outputs": [
        {
          "name": "stdout",
          "output_type": "stream",
          "text": [
            "Requirement already satisfied: emoji in c:\\users\\ramya\\appdata\\local\\programs\\python\\python311\\lib\\site-packages (2.8.0)\n"
          ]
        }
      ],
      "source": [
        "!pip install emoji"
      ]
    },
    {
      "cell_type": "code",
      "execution_count": 27,
      "metadata": {
        "id": "_DxtkDS3MzE8"
      },
      "outputs": [],
      "source": [
        "import emoji\n",
        "def contains_emoji(text):\n",
        "    if isinstance(text, str):\n",
        "        return int(bool(emoji.emoji_count(text)))\n",
        "    else:\n",
        "        return 0\n",
        "df['emoticon'] = df['post_text'].apply(contains_emoji)"
      ]
    },
    {
      "cell_type": "code",
      "execution_count": 28,
      "metadata": {
        "colab": {
          "base_uri": "https://localhost:8080/"
        },
        "id": "I8hbHHOMJZ9R",
        "outputId": "fd2f0b79-4787-4219-a844-dc3d0f864356"
      },
      "outputs": [
        {
          "name": "stdout",
          "output_type": "stream",
          "text": [
            "0    193278\n",
            "1     23953\n",
            "Name: emoticon, dtype: int64\n"
          ]
        }
      ],
      "source": [
        "emoticoncount = df[\"emoticon\"].value_counts()\n",
        "print(emoticoncount)"
      ]
    },
    {
      "cell_type": "code",
      "execution_count": 29,
      "metadata": {
        "id": "_4rYAGHuUBc-"
      },
      "outputs": [],
      "source": [
        "df1 = userinfodf[[\"user_id\",\"creation_date\",\"follower_count\",\"following_count\",\"description\"]].copy()"
      ]
    },
    {
      "cell_type": "code",
      "execution_count": 30,
      "metadata": {
        "colab": {
          "base_uri": "https://localhost:8080/"
        },
        "id": "-ctqAj5tZcu6",
        "outputId": "a6360292-058b-40a6-8875-e7702ac974c4"
      },
      "outputs": [
        {
          "data": {
            "text/html": [
              "<div>\n",
              "<style scoped>\n",
              "    .dataframe tbody tr th:only-of-type {\n",
              "        vertical-align: middle;\n",
              "    }\n",
              "\n",
              "    .dataframe tbody tr th {\n",
              "        vertical-align: top;\n",
              "    }\n",
              "\n",
              "    .dataframe thead th {\n",
              "        text-align: right;\n",
              "    }\n",
              "</style>\n",
              "<table border=\"1\" class=\"dataframe\">\n",
              "  <thead>\n",
              "    <tr style=\"text-align: right;\">\n",
              "      <th></th>\n",
              "      <th>user_id</th>\n",
              "      <th>creation_date</th>\n",
              "      <th>follower_count</th>\n",
              "      <th>following_count</th>\n",
              "      <th>description</th>\n",
              "      <th>account_age</th>\n",
              "    </tr>\n",
              "  </thead>\n",
              "  <tbody>\n",
              "    <tr>\n",
              "      <th>0</th>\n",
              "      <td>0</td>\n",
              "      <td>2020-03-26 15:57:20</td>\n",
              "      <td>56.0</td>\n",
              "      <td>101.0</td>\n",
              "      <td>NaN</td>\n",
              "      <td>4.0</td>\n",
              "    </tr>\n",
              "    <tr>\n",
              "      <th>1</th>\n",
              "      <td>1</td>\n",
              "      <td>2015-07-21 22:10:47</td>\n",
              "      <td>22533.0</td>\n",
              "      <td>8104.0</td>\n",
              "      <td>People say I’m skeptical, but I don’t believe ...</td>\n",
              "      <td>8.0</td>\n",
              "    </tr>\n",
              "    <tr>\n",
              "      <th>2</th>\n",
              "      <td>2</td>\n",
              "      <td>2019-02-02 19:01:35</td>\n",
              "      <td>372.0</td>\n",
              "      <td>598.0</td>\n",
              "      <td>Motorcycles.  Retired merchant Mariner Captain...</td>\n",
              "      <td>5.0</td>\n",
              "    </tr>\n",
              "    <tr>\n",
              "      <th>3</th>\n",
              "      <td>3</td>\n",
              "      <td>2020-04-01 07:32:57</td>\n",
              "      <td>203.0</td>\n",
              "      <td>322.0</td>\n",
              "      <td>Cheese, wine, medieval history, licensed foren...</td>\n",
              "      <td>4.0</td>\n",
              "    </tr>\n",
              "    <tr>\n",
              "      <th>4</th>\n",
              "      <td>4</td>\n",
              "      <td>2020-11-07 13:23:04</td>\n",
              "      <td>4.0</td>\n",
              "      <td>102.0</td>\n",
              "      <td>NaN</td>\n",
              "      <td>3.0</td>\n",
              "    </tr>\n",
              "  </tbody>\n",
              "</table>\n",
              "</div>"
            ],
            "text/plain": [
              "   user_id        creation_date  follower_count  following_count  \\\n",
              "0        0  2020-03-26 15:57:20            56.0            101.0   \n",
              "1        1  2015-07-21 22:10:47         22533.0           8104.0   \n",
              "2        2  2019-02-02 19:01:35           372.0            598.0   \n",
              "3        3  2020-04-01 07:32:57           203.0            322.0   \n",
              "4        4  2020-11-07 13:23:04             4.0            102.0   \n",
              "\n",
              "                                         description  account_age  \n",
              "0                                                NaN          4.0  \n",
              "1  People say I’m skeptical, but I don’t believe ...          8.0  \n",
              "2  Motorcycles.  Retired merchant Mariner Captain...          5.0  \n",
              "3  Cheese, wine, medieval history, licensed foren...          4.0  \n",
              "4                                                NaN          3.0  "
            ]
          },
          "execution_count": 30,
          "metadata": {},
          "output_type": "execute_result"
        }
      ],
      "source": [
        "from datetime import datetime, timezone\n",
        "df_no_missing_dates = df1.dropna(subset=['creation_date']).copy()\n",
        "df_no_missing_dates['creation_date'] = pd.to_datetime(df_no_missing_dates['creation_date'])\n",
        "current_date = datetime.now()\n",
        "df_no_missing_dates['account_age'] = (current_date - df_no_missing_dates['creation_date']).dt.days // 365\n",
        "df1 = pd.merge(df1, df_no_missing_dates[['user_id', 'account_age']], on='user_id', how='left')\n",
        "df1['account_age'].fillna(-1, inplace=True)\n",
        "df1.head(5)"
      ]
    },
    {
      "cell_type": "code",
      "execution_count": 31,
      "metadata": {
        "colab": {
          "base_uri": "https://localhost:8080/"
        },
        "id": "NfmFIR6AckPa",
        "outputId": "1b94a3f6-0735-4b72-ee56-912937103b4e"
      },
      "outputs": [
        {
          "data": {
            "text/plain": [
              "count    144741.000000\n",
              "mean          9.537235\n",
              "std           4.125044\n",
              "min          -1.000000\n",
              "25%           6.000000\n",
              "50%          10.000000\n",
              "75%          13.000000\n",
              "max          18.000000\n",
              "Name: account_age, dtype: float64"
            ]
          },
          "execution_count": 31,
          "metadata": {},
          "output_type": "execute_result"
        }
      ],
      "source": [
        "df1[\"account_age\"].describe()"
      ]
    },
    {
      "cell_type": "code",
      "execution_count": 32,
      "metadata": {
        "colab": {
          "base_uri": "https://localhost:8080/"
        },
        "id": "SiKc_kG_cqhb",
        "outputId": "9b4bf37a-32e8-458c-ea00-0215bd35fdf9"
      },
      "outputs": [
        {
          "name": "stdout",
          "output_type": "stream",
          "text": [
            " 15.0    16758\n",
            " 4.0     15081\n",
            " 14.0    13520\n",
            " 12.0    13299\n",
            " 7.0     11338\n",
            " 13.0    11146\n",
            " 11.0    10841\n",
            " 5.0      9295\n",
            " 10.0     8913\n",
            " 6.0      8909\n",
            " 8.0      8149\n",
            " 9.0      7634\n",
            " 3.0      4876\n",
            "-1.0      2445\n",
            " 16.0     1918\n",
            " 17.0      618\n",
            " 18.0        1\n",
            "Name: account_age, dtype: int64\n"
          ]
        }
      ],
      "source": [
        "accountagecount = df1[\"account_age\"].value_counts()\n",
        "print(accountagecount)"
      ]
    },
    {
      "cell_type": "code",
      "execution_count": 33,
      "metadata": {
        "id": "lg2Oh5EOdeFW"
      },
      "outputs": [],
      "source": [
        "def count_hashtag(text):\n",
        "    if pd.isna(text):\n",
        "        return 0\n",
        "    count = 0\n",
        "    for char in text:\n",
        "        if char == '#':\n",
        "            count += 1\n",
        "    return count\n",
        "df1['hashtag_count'] = df1['description'].apply(count_hashtag)"
      ]
    },
    {
      "cell_type": "code",
      "execution_count": 34,
      "metadata": {
        "colab": {
          "base_uri": "https://localhost:8080/"
        },
        "id": "jNc8g9-Mdo5Z",
        "outputId": "0a4a8415-f8b5-4624-bb53-1004e125aac6"
      },
      "outputs": [
        {
          "data": {
            "text/plain": [
              "count    144741.000000\n",
              "mean          0.706876\n",
              "std           1.730544\n",
              "min           0.000000\n",
              "25%           0.000000\n",
              "50%           0.000000\n",
              "75%           0.000000\n",
              "max          21.000000\n",
              "Name: hashtag_count, dtype: float64"
            ]
          },
          "execution_count": 34,
          "metadata": {},
          "output_type": "execute_result"
        }
      ],
      "source": [
        "df1[\"hashtag_count\"].describe()"
      ]
    },
    {
      "cell_type": "code",
      "execution_count": 35,
      "metadata": {
        "id": "t-qXZZ1NjAqj"
      },
      "outputs": [],
      "source": [
        "df1['mention_count'] = df1['description'].apply(count_mentions)"
      ]
    },
    {
      "cell_type": "code",
      "execution_count": 36,
      "metadata": {
        "colab": {
          "base_uri": "https://localhost:8080/"
        },
        "id": "fV5rFIuMjWzQ",
        "outputId": "97a330dc-e6ee-4698-f595-d406cc566fbf"
      },
      "outputs": [
        {
          "data": {
            "text/plain": [
              "count    144741.000000\n",
              "mean          0.230501\n",
              "std           0.808997\n",
              "min           0.000000\n",
              "25%           0.000000\n",
              "50%           0.000000\n",
              "75%           0.000000\n",
              "max          15.000000\n",
              "Name: mention_count, dtype: float64"
            ]
          },
          "execution_count": 36,
          "metadata": {},
          "output_type": "execute_result"
        }
      ],
      "source": [
        "df1[\"mention_count\"].describe()"
      ]
    },
    {
      "cell_type": "code",
      "execution_count": 37,
      "metadata": {
        "id": "VMFXOSTVjr1A"
      },
      "outputs": [],
      "source": [
        "df1['description_length'] = df1['description'].apply(calculate_tweet_length)"
      ]
    },
    {
      "cell_type": "code",
      "execution_count": 38,
      "metadata": {
        "colab": {
          "base_uri": "https://localhost:8080/"
        },
        "id": "LBI1YHSHj-SZ",
        "outputId": "0b3f8ba1-c986-4b14-fb18-99e7d3780f19"
      },
      "outputs": [
        {
          "data": {
            "text/plain": [
              "count    144741.000000\n",
              "mean         87.860627\n",
              "std          57.131895\n",
              "min           0.000000\n",
              "25%          34.000000\n",
              "50%          97.000000\n",
              "75%         144.000000\n",
              "max         216.000000\n",
              "Name: description_length, dtype: float64"
            ]
          },
          "execution_count": 38,
          "metadata": {},
          "output_type": "execute_result"
        }
      ],
      "source": [
        "df1['description_length'].describe()"
      ]
    },
    {
      "cell_type": "code",
      "execution_count": 39,
      "metadata": {
        "id": "OM_sA_aYk1Ok"
      },
      "outputs": [],
      "source": [
        "df1['emoticon'] = df1['description'].apply(contains_emoji)"
      ]
    },
    {
      "cell_type": "code",
      "execution_count": 40,
      "metadata": {
        "colab": {
          "base_uri": "https://localhost:8080/"
        },
        "id": "537JKXlTkXSw",
        "outputId": "7cc44773-7b9c-4c63-d371-679ec2764914"
      },
      "outputs": [
        {
          "name": "stdout",
          "output_type": "stream",
          "text": [
            "0    114962\n",
            "1     29779\n",
            "Name: emoticon, dtype: int64\n"
          ]
        }
      ],
      "source": [
        "emoticonscount = df1[\"emoticon\"].value_counts()\n",
        "print(emoticonscount)"
      ]
    },
    {
      "cell_type": "code",
      "execution_count": 41,
      "metadata": {
        "colab": {
          "base_uri": "https://localhost:8080/"
        },
        "id": "ahpmE2Q9-hSo",
        "outputId": "91ef31a1-8f7b-45e5-979e-71d9178b206f"
      },
      "outputs": [
        {
          "data": {
            "text/html": [
              "<div>\n",
              "<style scoped>\n",
              "    .dataframe tbody tr th:only-of-type {\n",
              "        vertical-align: middle;\n",
              "    }\n",
              "\n",
              "    .dataframe tbody tr th {\n",
              "        vertical-align: top;\n",
              "    }\n",
              "\n",
              "    .dataframe thead th {\n",
              "        text-align: right;\n",
              "    }\n",
              "</style>\n",
              "<table border=\"1\" class=\"dataframe\">\n",
              "  <thead>\n",
              "    <tr style=\"text-align: right;\">\n",
              "      <th></th>\n",
              "      <th>user_id</th>\n",
              "      <th>creation_date</th>\n",
              "      <th>follower_count</th>\n",
              "      <th>following_count</th>\n",
              "      <th>description</th>\n",
              "      <th>account_age</th>\n",
              "      <th>hashtag_count</th>\n",
              "      <th>mention_count</th>\n",
              "      <th>description_length</th>\n",
              "      <th>emoticon</th>\n",
              "    </tr>\n",
              "  </thead>\n",
              "  <tbody>\n",
              "    <tr>\n",
              "      <th>0</th>\n",
              "      <td>0</td>\n",
              "      <td>2020-03-26 15:57:20</td>\n",
              "      <td>56.0</td>\n",
              "      <td>101.0</td>\n",
              "      <td>NaN</td>\n",
              "      <td>4.0</td>\n",
              "      <td>0</td>\n",
              "      <td>0</td>\n",
              "      <td>0</td>\n",
              "      <td>0</td>\n",
              "    </tr>\n",
              "    <tr>\n",
              "      <th>1</th>\n",
              "      <td>1</td>\n",
              "      <td>2015-07-21 22:10:47</td>\n",
              "      <td>22533.0</td>\n",
              "      <td>8104.0</td>\n",
              "      <td>People say I’m skeptical, but I don’t believe ...</td>\n",
              "      <td>8.0</td>\n",
              "      <td>1</td>\n",
              "      <td>4</td>\n",
              "      <td>147</td>\n",
              "      <td>0</td>\n",
              "    </tr>\n",
              "    <tr>\n",
              "      <th>2</th>\n",
              "      <td>2</td>\n",
              "      <td>2019-02-02 19:01:35</td>\n",
              "      <td>372.0</td>\n",
              "      <td>598.0</td>\n",
              "      <td>Motorcycles.  Retired merchant Mariner Captain...</td>\n",
              "      <td>5.0</td>\n",
              "      <td>2</td>\n",
              "      <td>0</td>\n",
              "      <td>110</td>\n",
              "      <td>0</td>\n",
              "    </tr>\n",
              "    <tr>\n",
              "      <th>3</th>\n",
              "      <td>3</td>\n",
              "      <td>2020-04-01 07:32:57</td>\n",
              "      <td>203.0</td>\n",
              "      <td>322.0</td>\n",
              "      <td>Cheese, wine, medieval history, licensed foren...</td>\n",
              "      <td>4.0</td>\n",
              "      <td>1</td>\n",
              "      <td>0</td>\n",
              "      <td>125</td>\n",
              "      <td>0</td>\n",
              "    </tr>\n",
              "    <tr>\n",
              "      <th>4</th>\n",
              "      <td>4</td>\n",
              "      <td>2020-11-07 13:23:04</td>\n",
              "      <td>4.0</td>\n",
              "      <td>102.0</td>\n",
              "      <td>NaN</td>\n",
              "      <td>3.0</td>\n",
              "      <td>0</td>\n",
              "      <td>0</td>\n",
              "      <td>0</td>\n",
              "      <td>0</td>\n",
              "    </tr>\n",
              "  </tbody>\n",
              "</table>\n",
              "</div>"
            ],
            "text/plain": [
              "   user_id        creation_date  follower_count  following_count  \\\n",
              "0        0  2020-03-26 15:57:20            56.0            101.0   \n",
              "1        1  2015-07-21 22:10:47         22533.0           8104.0   \n",
              "2        2  2019-02-02 19:01:35           372.0            598.0   \n",
              "3        3  2020-04-01 07:32:57           203.0            322.0   \n",
              "4        4  2020-11-07 13:23:04             4.0            102.0   \n",
              "\n",
              "                                         description  account_age  \\\n",
              "0                                                NaN          4.0   \n",
              "1  People say I’m skeptical, but I don’t believe ...          8.0   \n",
              "2  Motorcycles.  Retired merchant Mariner Captain...          5.0   \n",
              "3  Cheese, wine, medieval history, licensed foren...          4.0   \n",
              "4                                                NaN          3.0   \n",
              "\n",
              "   hashtag_count  mention_count  description_length  emoticon  \n",
              "0              0              0                   0         0  \n",
              "1              1              4                 147         0  \n",
              "2              2              0                 110         0  \n",
              "3              1              0                 125         0  \n",
              "4              0              0                   0         0  "
            ]
          },
          "execution_count": 41,
          "metadata": {},
          "output_type": "execute_result"
        }
      ],
      "source": [
        "df1.head(5)"
      ]
    },
    {
      "cell_type": "code",
      "execution_count": 42,
      "metadata": {
        "id": "E8suPLA126WF"
      },
      "outputs": [],
      "source": [
        "data = df[[\"tweet_id\",\"post_text\",\"tweet_user\",\"parent_id\",\"parent_user\",\"create_date\",\"like_count\",\"retweet_count\",\"hashtag\",\n",
        "           \"hashtag_count\",\"depth\",\"mention_count\",\"questionmark_count\",\"tweet_length\",\"emoticon\",\"group\"]].copy()\n",
        "data = pd.merge(data, df1[['creation_date', 'follower_count', 'following_count', 'description', 'account_age',\n",
        "                           'hashtag_count', 'mention_count', 'description_length', 'emoticon']], left_on='tweet_user', right_on=df1['user_id'],suffixes=('_x', '_y'))"
      ]
    },
    {
      "cell_type": "code",
      "execution_count": 43,
      "metadata": {
        "colab": {
          "base_uri": "https://localhost:8080/",
          "height": 293
        },
        "id": "NGkc-dzqEc54",
        "outputId": "2dac28aa-0f17-484c-d828-8cbc80d92735"
      },
      "outputs": [
        {
          "data": {
            "text/html": [
              "<div>\n",
              "<style scoped>\n",
              "    .dataframe tbody tr th:only-of-type {\n",
              "        vertical-align: middle;\n",
              "    }\n",
              "\n",
              "    .dataframe tbody tr th {\n",
              "        vertical-align: top;\n",
              "    }\n",
              "\n",
              "    .dataframe thead th {\n",
              "        text-align: right;\n",
              "    }\n",
              "</style>\n",
              "<table border=\"1\" class=\"dataframe\">\n",
              "  <thead>\n",
              "    <tr style=\"text-align: right;\">\n",
              "      <th></th>\n",
              "      <th>user_id</th>\n",
              "      <th>creation_date</th>\n",
              "      <th>follower_count</th>\n",
              "      <th>following_count</th>\n",
              "      <th>description</th>\n",
              "      <th>account_age</th>\n",
              "      <th>hashtag_count</th>\n",
              "      <th>mention_count</th>\n",
              "      <th>description_length</th>\n",
              "      <th>emoticon</th>\n",
              "      <th>history_tweets</th>\n",
              "    </tr>\n",
              "  </thead>\n",
              "  <tbody>\n",
              "    <tr>\n",
              "      <th>0</th>\n",
              "      <td>0</td>\n",
              "      <td>2020-03-26 15:57:20</td>\n",
              "      <td>56.0</td>\n",
              "      <td>101.0</td>\n",
              "      <td>NaN</td>\n",
              "      <td>4.0</td>\n",
              "      <td>0</td>\n",
              "      <td>0</td>\n",
              "      <td>0</td>\n",
              "      <td>0</td>\n",
              "      <td>1758</td>\n",
              "    </tr>\n",
              "    <tr>\n",
              "      <th>1</th>\n",
              "      <td>1</td>\n",
              "      <td>2015-07-21 22:10:47</td>\n",
              "      <td>22533.0</td>\n",
              "      <td>8104.0</td>\n",
              "      <td>People say I’m skeptical, but I don’t believe ...</td>\n",
              "      <td>8.0</td>\n",
              "      <td>1</td>\n",
              "      <td>4</td>\n",
              "      <td>147</td>\n",
              "      <td>0</td>\n",
              "      <td>4</td>\n",
              "    </tr>\n",
              "    <tr>\n",
              "      <th>2</th>\n",
              "      <td>2</td>\n",
              "      <td>2019-02-02 19:01:35</td>\n",
              "      <td>372.0</td>\n",
              "      <td>598.0</td>\n",
              "      <td>Motorcycles.  Retired merchant Mariner Captain...</td>\n",
              "      <td>5.0</td>\n",
              "      <td>2</td>\n",
              "      <td>0</td>\n",
              "      <td>110</td>\n",
              "      <td>0</td>\n",
              "      <td>1</td>\n",
              "    </tr>\n",
              "    <tr>\n",
              "      <th>3</th>\n",
              "      <td>3</td>\n",
              "      <td>2020-04-01 07:32:57</td>\n",
              "      <td>203.0</td>\n",
              "      <td>322.0</td>\n",
              "      <td>Cheese, wine, medieval history, licensed foren...</td>\n",
              "      <td>4.0</td>\n",
              "      <td>1</td>\n",
              "      <td>0</td>\n",
              "      <td>125</td>\n",
              "      <td>0</td>\n",
              "      <td>2</td>\n",
              "    </tr>\n",
              "    <tr>\n",
              "      <th>4</th>\n",
              "      <td>4</td>\n",
              "      <td>2020-11-07 13:23:04</td>\n",
              "      <td>4.0</td>\n",
              "      <td>102.0</td>\n",
              "      <td>NaN</td>\n",
              "      <td>3.0</td>\n",
              "      <td>0</td>\n",
              "      <td>0</td>\n",
              "      <td>0</td>\n",
              "      <td>0</td>\n",
              "      <td>1</td>\n",
              "    </tr>\n",
              "  </tbody>\n",
              "</table>\n",
              "</div>"
            ],
            "text/plain": [
              "   user_id        creation_date  follower_count  following_count  \\\n",
              "0        0  2020-03-26 15:57:20            56.0            101.0   \n",
              "1        1  2015-07-21 22:10:47         22533.0           8104.0   \n",
              "2        2  2019-02-02 19:01:35           372.0            598.0   \n",
              "3        3  2020-04-01 07:32:57           203.0            322.0   \n",
              "4        4  2020-11-07 13:23:04             4.0            102.0   \n",
              "\n",
              "                                         description  account_age  \\\n",
              "0                                                NaN          4.0   \n",
              "1  People say I’m skeptical, but I don’t believe ...          8.0   \n",
              "2  Motorcycles.  Retired merchant Mariner Captain...          5.0   \n",
              "3  Cheese, wine, medieval history, licensed foren...          4.0   \n",
              "4                                                NaN          3.0   \n",
              "\n",
              "   hashtag_count  mention_count  description_length  emoticon  history_tweets  \n",
              "0              0              0                   0         0            1758  \n",
              "1              1              4                 147         0               4  \n",
              "2              2              0                 110         0               1  \n",
              "3              1              0                 125         0               2  \n",
              "4              0              0                   0         0               1  "
            ]
          },
          "execution_count": 43,
          "metadata": {},
          "output_type": "execute_result"
        }
      ],
      "source": [
        "def count_history_tweets(user_id):\n",
        "    return ((data['tweet_user'] == user_id) | (data['parent_user'] == user_id)).sum()\n",
        "df1['history_tweets'] = df1['user_id'].apply(count_history_tweets)\n",
        "df1.head(5)"
      ]
    },
    {
      "cell_type": "code",
      "execution_count": 44,
      "metadata": {
        "colab": {
          "base_uri": "https://localhost:8080/",
          "height": 550
        },
        "id": "8pnAE2fOMLOS",
        "outputId": "0755a1c2-eb38-4d34-c13e-39ea1118d033"
      },
      "outputs": [
        {
          "data": {
            "text/html": [
              "<div>\n",
              "<style scoped>\n",
              "    .dataframe tbody tr th:only-of-type {\n",
              "        vertical-align: middle;\n",
              "    }\n",
              "\n",
              "    .dataframe tbody tr th {\n",
              "        vertical-align: top;\n",
              "    }\n",
              "\n",
              "    .dataframe thead th {\n",
              "        text-align: right;\n",
              "    }\n",
              "</style>\n",
              "<table border=\"1\" class=\"dataframe\">\n",
              "  <thead>\n",
              "    <tr style=\"text-align: right;\">\n",
              "      <th></th>\n",
              "      <th>tweet_id</th>\n",
              "      <th>post_text</th>\n",
              "      <th>tweet_user</th>\n",
              "      <th>parent_id</th>\n",
              "      <th>parent_user</th>\n",
              "      <th>create_date</th>\n",
              "      <th>like_count</th>\n",
              "      <th>retweet_count</th>\n",
              "      <th>hashtag</th>\n",
              "      <th>hashtag_count_x</th>\n",
              "      <th>...</th>\n",
              "      <th>follower_count</th>\n",
              "      <th>following_count</th>\n",
              "      <th>description</th>\n",
              "      <th>account_age</th>\n",
              "      <th>hashtag_count_y</th>\n",
              "      <th>mention_count_y</th>\n",
              "      <th>description_length</th>\n",
              "      <th>emoticon_y</th>\n",
              "      <th>history_tweets</th>\n",
              "      <th>group</th>\n",
              "    </tr>\n",
              "  </thead>\n",
              "  <tbody>\n",
              "    <tr>\n",
              "      <th>0</th>\n",
              "      <td>1260590991641362436</td>\n",
              "      <td>So you left a 69 page guidebook but no PPE or ...</td>\n",
              "      <td>64</td>\n",
              "      <td>0</td>\n",
              "      <td>0</td>\n",
              "      <td>2020-05-13T15:21:27.000Z</td>\n",
              "      <td>301</td>\n",
              "      <td>113</td>\n",
              "      <td>NaN</td>\n",
              "      <td>0</td>\n",
              "      <td>...</td>\n",
              "      <td>28000.0</td>\n",
              "      <td>1017.0</td>\n",
              "      <td>Fmr Deputy Assistant to the SECDEF. Army Helo ...</td>\n",
              "      <td>12.0</td>\n",
              "      <td>0</td>\n",
              "      <td>1</td>\n",
              "      <td>140</td>\n",
              "      <td>1</td>\n",
              "      <td>6</td>\n",
              "      <td>0</td>\n",
              "    </tr>\n",
              "    <tr>\n",
              "      <th>1</th>\n",
              "      <td>1257296415849697280</td>\n",
              "      <td>How people act when they get a little bit of p...</td>\n",
              "      <td>64</td>\n",
              "      <td>1256955387066101760</td>\n",
              "      <td>111921</td>\n",
              "      <td>2020-05-04T13:09:59.000Z</td>\n",
              "      <td>19</td>\n",
              "      <td>8</td>\n",
              "      <td>BigBrother</td>\n",
              "      <td>1</td>\n",
              "      <td>...</td>\n",
              "      <td>28000.0</td>\n",
              "      <td>1017.0</td>\n",
              "      <td>Fmr Deputy Assistant to the SECDEF. Army Helo ...</td>\n",
              "      <td>12.0</td>\n",
              "      <td>0</td>\n",
              "      <td>1</td>\n",
              "      <td>140</td>\n",
              "      <td>1</td>\n",
              "      <td>6</td>\n",
              "      <td>0</td>\n",
              "    </tr>\n",
              "    <tr>\n",
              "      <th>2</th>\n",
              "      <td>1288771853822103552</td>\n",
              "      <td>More tales from the NHS frontline are emerging...</td>\n",
              "      <td>135</td>\n",
              "      <td>0</td>\n",
              "      <td>0</td>\n",
              "      <td>2020-07-30T09:42:08.000Z</td>\n",
              "      <td>194</td>\n",
              "      <td>99</td>\n",
              "      <td>NaN</td>\n",
              "      <td>0</td>\n",
              "      <td>...</td>\n",
              "      <td>73909.0</td>\n",
              "      <td>2835.0</td>\n",
              "      <td>Journalist for 25 years, former MEP. Now Chief...</td>\n",
              "      <td>12.0</td>\n",
              "      <td>0</td>\n",
              "      <td>1</td>\n",
              "      <td>158</td>\n",
              "      <td>0</td>\n",
              "      <td>5</td>\n",
              "      <td>1</td>\n",
              "    </tr>\n",
              "    <tr>\n",
              "      <th>3</th>\n",
              "      <td>1251209120528637952</td>\n",
              "      <td>DEVELOPING: A crowd of protesters could be see...</td>\n",
              "      <td>290</td>\n",
              "      <td>0</td>\n",
              "      <td>0</td>\n",
              "      <td>2020-04-17T18:01:15.000Z</td>\n",
              "      <td>7650</td>\n",
              "      <td>4279</td>\n",
              "      <td>NaN</td>\n",
              "      <td>0</td>\n",
              "      <td>...</td>\n",
              "      <td>234555.0</td>\n",
              "      <td>7014.0</td>\n",
              "      <td>Thanks for your interest in WCCO/ CBS Minnesot...</td>\n",
              "      <td>16.0</td>\n",
              "      <td>0</td>\n",
              "      <td>0</td>\n",
              "      <td>156</td>\n",
              "      <td>0</td>\n",
              "      <td>138</td>\n",
              "      <td>1</td>\n",
              "    </tr>\n",
              "    <tr>\n",
              "      <th>4</th>\n",
              "      <td>1339567071588442113</td>\n",
              "      <td>Latest we expect on checks, *as of now*, per a...</td>\n",
              "      <td>361</td>\n",
              "      <td>0</td>\n",
              "      <td>0</td>\n",
              "      <td>2020-12-17T13:44:12.000Z</td>\n",
              "      <td>621</td>\n",
              "      <td>231</td>\n",
              "      <td>NaN</td>\n",
              "      <td>0</td>\n",
              "      <td>...</td>\n",
              "      <td>98474.0</td>\n",
              "      <td>1405.0</td>\n",
              "      <td>White House economics reporter for The Washing...</td>\n",
              "      <td>12.0</td>\n",
              "      <td>0</td>\n",
              "      <td>2</td>\n",
              "      <td>156</td>\n",
              "      <td>0</td>\n",
              "      <td>100</td>\n",
              "      <td>0</td>\n",
              "    </tr>\n",
              "  </tbody>\n",
              "</table>\n",
              "<p>5 rows × 26 columns</p>\n",
              "</div>"
            ],
            "text/plain": [
              "              tweet_id                                          post_text  \\\n",
              "0  1260590991641362436  So you left a 69 page guidebook but no PPE or ...   \n",
              "1  1257296415849697280  How people act when they get a little bit of p...   \n",
              "2  1288771853822103552  More tales from the NHS frontline are emerging...   \n",
              "3  1251209120528637952  DEVELOPING: A crowd of protesters could be see...   \n",
              "4  1339567071588442113  Latest we expect on checks, *as of now*, per a...   \n",
              "\n",
              "   tweet_user            parent_id  parent_user               create_date  \\\n",
              "0          64                    0            0  2020-05-13T15:21:27.000Z   \n",
              "1          64  1256955387066101760       111921  2020-05-04T13:09:59.000Z   \n",
              "2         135                    0            0  2020-07-30T09:42:08.000Z   \n",
              "3         290                    0            0  2020-04-17T18:01:15.000Z   \n",
              "4         361                    0            0  2020-12-17T13:44:12.000Z   \n",
              "\n",
              "   like_count  retweet_count     hashtag  hashtag_count_x  ...  \\\n",
              "0         301            113         NaN                0  ...   \n",
              "1          19              8  BigBrother                1  ...   \n",
              "2         194             99         NaN                0  ...   \n",
              "3        7650           4279         NaN                0  ...   \n",
              "4         621            231         NaN                0  ...   \n",
              "\n",
              "   follower_count  following_count  \\\n",
              "0         28000.0           1017.0   \n",
              "1         28000.0           1017.0   \n",
              "2         73909.0           2835.0   \n",
              "3        234555.0           7014.0   \n",
              "4         98474.0           1405.0   \n",
              "\n",
              "                                         description  account_age  \\\n",
              "0  Fmr Deputy Assistant to the SECDEF. Army Helo ...         12.0   \n",
              "1  Fmr Deputy Assistant to the SECDEF. Army Helo ...         12.0   \n",
              "2  Journalist for 25 years, former MEP. Now Chief...         12.0   \n",
              "3  Thanks for your interest in WCCO/ CBS Minnesot...         16.0   \n",
              "4  White House economics reporter for The Washing...         12.0   \n",
              "\n",
              "   hashtag_count_y mention_count_y  description_length  emoticon_y  \\\n",
              "0                0               1                 140           1   \n",
              "1                0               1                 140           1   \n",
              "2                0               1                 158           0   \n",
              "3                0               0                 156           0   \n",
              "4                0               2                 156           0   \n",
              "\n",
              "  history_tweets  group  \n",
              "0              6      0  \n",
              "1              6      0  \n",
              "2              5      1  \n",
              "3            138      1  \n",
              "4            100      0  \n",
              "\n",
              "[5 rows x 26 columns]"
            ]
          },
          "execution_count": 44,
          "metadata": {},
          "output_type": "execute_result"
        }
      ],
      "source": [
        "data = data.merge(df1[\"history_tweets\"], how='left', left_on='tweet_user', right_on=df1['user_id'])\n",
        "data['history_tweets'] = data['history_tweets'].astype(int)\n",
        "group_col = data.pop('group')\n",
        "data.insert(len(data.columns), 'group', group_col)\n",
        "data.head(5)"
      ]
    },
    {
      "cell_type": "code",
      "execution_count": 45,
      "metadata": {
        "colab": {
          "base_uri": "https://localhost:8080/"
        },
        "id": "5skrp2PISIib",
        "outputId": "3765d3d4-e275-4a5c-b942-1f7bfc911d36"
      },
      "outputs": [
        {
          "name": "stdout",
          "output_type": "stream",
          "text": [
            "<class 'pandas.core.frame.DataFrame'>\n",
            "Int64Index: 217231 entries, 0 to 217230\n",
            "Data columns (total 26 columns):\n",
            " #   Column              Non-Null Count   Dtype  \n",
            "---  ------              --------------   -----  \n",
            " 0   tweet_id            217231 non-null  int64  \n",
            " 1   post_text           217231 non-null  object \n",
            " 2   tweet_user          217231 non-null  int64  \n",
            " 3   parent_id           217231 non-null  int64  \n",
            " 4   parent_user         217231 non-null  int64  \n",
            " 5   create_date         217231 non-null  object \n",
            " 6   like_count          217231 non-null  int64  \n",
            " 7   retweet_count       217231 non-null  int64  \n",
            " 8   hashtag             32380 non-null   object \n",
            " 9   hashtag_count_x     217231 non-null  int64  \n",
            " 10  depth               217231 non-null  int64  \n",
            " 11  mention_count_x     217231 non-null  int64  \n",
            " 12  questionmark_count  217231 non-null  int64  \n",
            " 13  tweet_length        217231 non-null  int64  \n",
            " 14  emoticon_x          217231 non-null  int64  \n",
            " 15  creation_date       215043 non-null  object \n",
            " 16  follower_count      217231 non-null  float64\n",
            " 17  following_count     217231 non-null  float64\n",
            " 18  description         191157 non-null  object \n",
            " 19  account_age         217231 non-null  float64\n",
            " 20  hashtag_count_y     217231 non-null  int64  \n",
            " 21  mention_count_y     217231 non-null  int64  \n",
            " 22  description_length  217231 non-null  int64  \n",
            " 23  emoticon_y          217231 non-null  int64  \n",
            " 24  history_tweets      217231 non-null  int32  \n",
            " 25  group               217231 non-null  int64  \n",
            "dtypes: float64(3), int32(1), int64(17), object(5)\n",
            "memory usage: 43.9+ MB\n"
          ]
        }
      ],
      "source": [
        "data.info()"
      ]
    },
    {
      "cell_type": "code",
      "execution_count": 46,
      "metadata": {
        "colab": {
          "base_uri": "https://localhost:8080/",
          "height": 516
        },
        "id": "6Gl3poJz_5iy",
        "outputId": "27d2cde3-a3df-4562-fb99-0e90133942c7"
      },
      "outputs": [
        {
          "data": {
            "text/html": [
              "<div>\n",
              "<style scoped>\n",
              "    .dataframe tbody tr th:only-of-type {\n",
              "        vertical-align: middle;\n",
              "    }\n",
              "\n",
              "    .dataframe tbody tr th {\n",
              "        vertical-align: top;\n",
              "    }\n",
              "\n",
              "    .dataframe thead th {\n",
              "        text-align: right;\n",
              "    }\n",
              "</style>\n",
              "<table border=\"1\" class=\"dataframe\">\n",
              "  <thead>\n",
              "    <tr style=\"text-align: right;\">\n",
              "      <th></th>\n",
              "      <th>tweet_id</th>\n",
              "      <th>post_text</th>\n",
              "      <th>parent_id</th>\n",
              "      <th>parent_user</th>\n",
              "      <th>create_date</th>\n",
              "      <th>tweet_length</th>\n",
              "      <th>emoticon_x</th>\n",
              "      <th>mention_count_x</th>\n",
              "      <th>hashtag_count_x</th>\n",
              "      <th>like_count</th>\n",
              "      <th>...</th>\n",
              "      <th>tweet_user</th>\n",
              "      <th>follower_count</th>\n",
              "      <th>following_count</th>\n",
              "      <th>history_tweets</th>\n",
              "      <th>account_age</th>\n",
              "      <th>hashtag_count_y</th>\n",
              "      <th>mention_count_y</th>\n",
              "      <th>description_length</th>\n",
              "      <th>emoticon_y</th>\n",
              "      <th>group</th>\n",
              "    </tr>\n",
              "  </thead>\n",
              "  <tbody>\n",
              "    <tr>\n",
              "      <th>0</th>\n",
              "      <td>1260590991641362436</td>\n",
              "      <td>So you left a 69 page guidebook but no PPE or ...</td>\n",
              "      <td>0</td>\n",
              "      <td>0</td>\n",
              "      <td>2020-05-13T15:21:27.000Z</td>\n",
              "      <td>278</td>\n",
              "      <td>0</td>\n",
              "      <td>0</td>\n",
              "      <td>0</td>\n",
              "      <td>301</td>\n",
              "      <td>...</td>\n",
              "      <td>64</td>\n",
              "      <td>28000.0</td>\n",
              "      <td>1017.0</td>\n",
              "      <td>6</td>\n",
              "      <td>12.0</td>\n",
              "      <td>0</td>\n",
              "      <td>1</td>\n",
              "      <td>140</td>\n",
              "      <td>1</td>\n",
              "      <td>0</td>\n",
              "    </tr>\n",
              "    <tr>\n",
              "      <th>1</th>\n",
              "      <td>1257296415849697280</td>\n",
              "      <td>How people act when they get a little bit of p...</td>\n",
              "      <td>1256955387066101760</td>\n",
              "      <td>111921</td>\n",
              "      <td>2020-05-04T13:09:59.000Z</td>\n",
              "      <td>139</td>\n",
              "      <td>0</td>\n",
              "      <td>0</td>\n",
              "      <td>1</td>\n",
              "      <td>19</td>\n",
              "      <td>...</td>\n",
              "      <td>64</td>\n",
              "      <td>28000.0</td>\n",
              "      <td>1017.0</td>\n",
              "      <td>6</td>\n",
              "      <td>12.0</td>\n",
              "      <td>0</td>\n",
              "      <td>1</td>\n",
              "      <td>140</td>\n",
              "      <td>1</td>\n",
              "      <td>0</td>\n",
              "    </tr>\n",
              "    <tr>\n",
              "      <th>2</th>\n",
              "      <td>1288771853822103552</td>\n",
              "      <td>More tales from the NHS frontline are emerging...</td>\n",
              "      <td>0</td>\n",
              "      <td>0</td>\n",
              "      <td>2020-07-30T09:42:08.000Z</td>\n",
              "      <td>301</td>\n",
              "      <td>0</td>\n",
              "      <td>1</td>\n",
              "      <td>0</td>\n",
              "      <td>194</td>\n",
              "      <td>...</td>\n",
              "      <td>135</td>\n",
              "      <td>73909.0</td>\n",
              "      <td>2835.0</td>\n",
              "      <td>5</td>\n",
              "      <td>12.0</td>\n",
              "      <td>0</td>\n",
              "      <td>1</td>\n",
              "      <td>158</td>\n",
              "      <td>0</td>\n",
              "      <td>1</td>\n",
              "    </tr>\n",
              "    <tr>\n",
              "      <th>3</th>\n",
              "      <td>1251209120528637952</td>\n",
              "      <td>DEVELOPING: A crowd of protesters could be see...</td>\n",
              "      <td>0</td>\n",
              "      <td>0</td>\n",
              "      <td>2020-04-17T18:01:15.000Z</td>\n",
              "      <td>302</td>\n",
              "      <td>0</td>\n",
              "      <td>1</td>\n",
              "      <td>0</td>\n",
              "      <td>7650</td>\n",
              "      <td>...</td>\n",
              "      <td>290</td>\n",
              "      <td>234555.0</td>\n",
              "      <td>7014.0</td>\n",
              "      <td>138</td>\n",
              "      <td>16.0</td>\n",
              "      <td>0</td>\n",
              "      <td>0</td>\n",
              "      <td>156</td>\n",
              "      <td>0</td>\n",
              "      <td>1</td>\n",
              "    </tr>\n",
              "    <tr>\n",
              "      <th>4</th>\n",
              "      <td>1339567071588442113</td>\n",
              "      <td>Latest we expect on checks, *as of now*, per a...</td>\n",
              "      <td>0</td>\n",
              "      <td>0</td>\n",
              "      <td>2020-12-17T13:44:12.000Z</td>\n",
              "      <td>276</td>\n",
              "      <td>0</td>\n",
              "      <td>0</td>\n",
              "      <td>0</td>\n",
              "      <td>621</td>\n",
              "      <td>...</td>\n",
              "      <td>361</td>\n",
              "      <td>98474.0</td>\n",
              "      <td>1405.0</td>\n",
              "      <td>100</td>\n",
              "      <td>12.0</td>\n",
              "      <td>0</td>\n",
              "      <td>2</td>\n",
              "      <td>156</td>\n",
              "      <td>0</td>\n",
              "      <td>0</td>\n",
              "    </tr>\n",
              "  </tbody>\n",
              "</table>\n",
              "<p>5 rows × 22 columns</p>\n",
              "</div>"
            ],
            "text/plain": [
              "              tweet_id                                          post_text  \\\n",
              "0  1260590991641362436  So you left a 69 page guidebook but no PPE or ...   \n",
              "1  1257296415849697280  How people act when they get a little bit of p...   \n",
              "2  1288771853822103552  More tales from the NHS frontline are emerging...   \n",
              "3  1251209120528637952  DEVELOPING: A crowd of protesters could be see...   \n",
              "4  1339567071588442113  Latest we expect on checks, *as of now*, per a...   \n",
              "\n",
              "             parent_id  parent_user               create_date  tweet_length  \\\n",
              "0                    0            0  2020-05-13T15:21:27.000Z           278   \n",
              "1  1256955387066101760       111921  2020-05-04T13:09:59.000Z           139   \n",
              "2                    0            0  2020-07-30T09:42:08.000Z           301   \n",
              "3                    0            0  2020-04-17T18:01:15.000Z           302   \n",
              "4                    0            0  2020-12-17T13:44:12.000Z           276   \n",
              "\n",
              "   emoticon_x  mention_count_x  hashtag_count_x  like_count  ...  tweet_user  \\\n",
              "0           0                0                0         301  ...          64   \n",
              "1           0                0                1          19  ...          64   \n",
              "2           0                1                0         194  ...         135   \n",
              "3           0                1                0        7650  ...         290   \n",
              "4           0                0                0         621  ...         361   \n",
              "\n",
              "   follower_count  following_count  history_tweets  account_age  \\\n",
              "0         28000.0           1017.0               6         12.0   \n",
              "1         28000.0           1017.0               6         12.0   \n",
              "2         73909.0           2835.0               5         12.0   \n",
              "3        234555.0           7014.0             138         16.0   \n",
              "4         98474.0           1405.0             100         12.0   \n",
              "\n",
              "   hashtag_count_y  mention_count_y  description_length  emoticon_y  group  \n",
              "0                0                1                 140           1      0  \n",
              "1                0                1                 140           1      0  \n",
              "2                0                1                 158           0      1  \n",
              "3                0                0                 156           0      1  \n",
              "4                0                2                 156           0      0  \n",
              "\n",
              "[5 rows x 22 columns]"
            ]
          },
          "execution_count": 46,
          "metadata": {},
          "output_type": "execute_result"
        }
      ],
      "source": [
        "features = data[[\"tweet_id\",\"post_text\",\"parent_id\",\"parent_user\",\"create_date\",\"tweet_length\",\"emoticon_x\",\"mention_count_x\",\"hashtag_count_x\",\"like_count\",\"retweet_count\",\"questionmark_count\",\n",
        "                 \"tweet_user\",\"follower_count\",\"following_count\",\"history_tweets\",\"account_age\",\"hashtag_count_y\",\"mention_count_y\",\"description_length\", \"emoticon_y\",\"group\"]].copy()\n",
        "features.head(5)"
      ]
    },
    {
      "cell_type": "code",
      "execution_count": 47,
      "metadata": {
        "id": "HXQu59ERYoNH"
      },
      "outputs": [],
      "source": [
        "features_path = \"C:/Users/ramya/Documents/Master Final Project/Phase 2/Project/features.csv\"\n",
        "features.to_csv(features_path, index=False)"
      ]
    },
    {
      "cell_type": "code",
      "execution_count": 48,
      "metadata": {},
      "outputs": [
        {
          "data": {
            "text/html": [
              "<div>\n",
              "<style scoped>\n",
              "    .dataframe tbody tr th:only-of-type {\n",
              "        vertical-align: middle;\n",
              "    }\n",
              "\n",
              "    .dataframe tbody tr th {\n",
              "        vertical-align: top;\n",
              "    }\n",
              "\n",
              "    .dataframe thead th {\n",
              "        text-align: right;\n",
              "    }\n",
              "</style>\n",
              "<table border=\"1\" class=\"dataframe\">\n",
              "  <thead>\n",
              "    <tr style=\"text-align: right;\">\n",
              "      <th></th>\n",
              "      <th>text</th>\n",
              "      <th>likes</th>\n",
              "      <th>retweets</th>\n",
              "      <th>description</th>\n",
              "      <th>creation_date</th>\n",
              "      <th>following</th>\n",
              "      <th>followers</th>\n",
              "      <th>history_tweets</th>\n",
              "    </tr>\n",
              "  </thead>\n",
              "  <tbody>\n",
              "    <tr>\n",
              "      <th>0</th>\n",
              "      <td>This is the new iPad Pro, available for $999 a...</td>\n",
              "      <td>3899</td>\n",
              "      <td>623</td>\n",
              "      <td>The latest Apple news. Not affiliated with App...</td>\n",
              "      <td>3:19 AM - 19 Dec 2014</td>\n",
              "      <td>151</td>\n",
              "      <td>867147</td>\n",
              "      <td>6485</td>\n",
              "    </tr>\n",
              "  </tbody>\n",
              "</table>\n",
              "</div>"
            ],
            "text/plain": [
              "                                                text  likes  retweets  \\\n",
              "0  This is the new iPad Pro, available for $999 a...   3899       623   \n",
              "\n",
              "                                         description          creation_date  \\\n",
              "0  The latest Apple news. Not affiliated with App...  3:19 AM - 19 Dec 2014   \n",
              "\n",
              "   following  followers  history_tweets  \n",
              "0        151     867147            6485  "
            ]
          },
          "execution_count": 48,
          "metadata": {},
          "output_type": "execute_result"
        }
      ],
      "source": [
        "data_df_path = \"C:/Users/ramya/Documents/Master Final Project/Phase 2/Project/datacopy.csv\"\n",
        "data_df = pd.read_csv(data_df_path,index_col=0)\n",
        "data_df.head()"
      ]
    },
    {
      "cell_type": "code",
      "execution_count": 49,
      "metadata": {},
      "outputs": [],
      "source": [
        "def count_hash(text):\n",
        "    if pd.isna(text):\n",
        "        return 0\n",
        "    count = 0\n",
        "    for char in text:\n",
        "        if char == '#':\n",
        "            count += 1\n",
        "    return count"
      ]
    },
    {
      "cell_type": "code",
      "execution_count": 50,
      "metadata": {},
      "outputs": [],
      "source": [
        "def calculate_accountage(creation_date):\n",
        "    creation_datetime = datetime.strptime(creation_date, '%I:%M %p - %d %b %Y')\n",
        "    current_datetime = datetime.now()\n",
        "    account_age = current_datetime.year - creation_datetime.year\n",
        "    return account_age"
      ]
    },
    {
      "cell_type": "code",
      "execution_count": 51,
      "metadata": {},
      "outputs": [
        {
          "data": {
            "text/html": [
              "<div>\n",
              "<style scoped>\n",
              "    .dataframe tbody tr th:only-of-type {\n",
              "        vertical-align: middle;\n",
              "    }\n",
              "\n",
              "    .dataframe tbody tr th {\n",
              "        vertical-align: top;\n",
              "    }\n",
              "\n",
              "    .dataframe thead th {\n",
              "        text-align: right;\n",
              "    }\n",
              "</style>\n",
              "<table border=\"1\" class=\"dataframe\">\n",
              "  <thead>\n",
              "    <tr style=\"text-align: right;\">\n",
              "      <th></th>\n",
              "      <th>text</th>\n",
              "      <th>likes</th>\n",
              "      <th>retweets</th>\n",
              "      <th>description</th>\n",
              "      <th>creation_date</th>\n",
              "      <th>following</th>\n",
              "      <th>followers</th>\n",
              "      <th>history_tweets</th>\n",
              "      <th>tweet_length</th>\n",
              "      <th>tweet_hashtag</th>\n",
              "      <th>tweet_mention</th>\n",
              "      <th>tweet_questionmark</th>\n",
              "      <th>tweet_emoji</th>\n",
              "      <th>bio_length</th>\n",
              "      <th>bio_hashtag</th>\n",
              "      <th>bio_mention</th>\n",
              "      <th>bio_emoji</th>\n",
              "      <th>account_age</th>\n",
              "    </tr>\n",
              "  </thead>\n",
              "  <tbody>\n",
              "    <tr>\n",
              "      <th>0</th>\n",
              "      <td>This is the new iPad Pro, available for $999 a...</td>\n",
              "      <td>3899</td>\n",
              "      <td>623</td>\n",
              "      <td>The latest Apple news. Not affiliated with App...</td>\n",
              "      <td>3:19 AM - 19 Dec 2014</td>\n",
              "      <td>151</td>\n",
              "      <td>867147</td>\n",
              "      <td>6485</td>\n",
              "      <td>66</td>\n",
              "      <td>1</td>\n",
              "      <td>0</td>\n",
              "      <td>0</td>\n",
              "      <td>0</td>\n",
              "      <td>53</td>\n",
              "      <td>0</td>\n",
              "      <td>0</td>\n",
              "      <td>0</td>\n",
              "      <td>10</td>\n",
              "    </tr>\n",
              "  </tbody>\n",
              "</table>\n",
              "</div>"
            ],
            "text/plain": [
              "                                                text  likes  retweets  \\\n",
              "0  This is the new iPad Pro, available for $999 a...   3899       623   \n",
              "\n",
              "                                         description          creation_date  \\\n",
              "0  The latest Apple news. Not affiliated with App...  3:19 AM - 19 Dec 2014   \n",
              "\n",
              "   following  followers  history_tweets  tweet_length  tweet_hashtag  \\\n",
              "0        151     867147            6485            66              1   \n",
              "\n",
              "   tweet_mention  tweet_questionmark  tweet_emoji  bio_length  bio_hashtag  \\\n",
              "0              0                   0            0          53            0   \n",
              "\n",
              "   bio_mention  bio_emoji  account_age  \n",
              "0            0          0           10  "
            ]
          },
          "execution_count": 51,
          "metadata": {},
          "output_type": "execute_result"
        }
      ],
      "source": [
        "data_df.insert(8, 'tweet_length', data_df['text'].apply(calculate_tweet_length))\n",
        "data_df.insert(9, 'tweet_hashtag', data_df['text'].apply(count_hash))\n",
        "data_df.insert(10, 'tweet_mention', data_df['text'].apply(count_mentions))\n",
        "data_df.insert(11, 'tweet_questionmark', data_df['text'].apply(count_question_marks))\n",
        "data_df.insert(12, 'tweet_emoji', data_df['text'].apply(contains_emoji))\n",
        "data_df.insert(13, 'bio_length', data_df['description'].apply(calculate_tweet_length))\n",
        "data_df.insert(14, 'bio_hashtag', data_df['description'].apply(count_hash))\n",
        "data_df.insert(15, 'bio_mention', data_df['description'].apply(count_mentions))\n",
        "data_df.insert(16, 'bio_emoji', data_df['description'].apply(contains_emoji))\n",
        "data_df.insert(17, 'account_age', data_df['creation_date'].apply(calculate_accountage))\n",
        "data_df.head()"
      ]
    },
    {
      "cell_type": "code",
      "execution_count": 52,
      "metadata": {},
      "outputs": [],
      "source": [
        "data_df.drop(['description','creation_date'], axis=1, inplace=True)"
      ]
    },
    {
      "cell_type": "code",
      "execution_count": 53,
      "metadata": {},
      "outputs": [
        {
          "data": {
            "text/html": [
              "<div>\n",
              "<style scoped>\n",
              "    .dataframe tbody tr th:only-of-type {\n",
              "        vertical-align: middle;\n",
              "    }\n",
              "\n",
              "    .dataframe tbody tr th {\n",
              "        vertical-align: top;\n",
              "    }\n",
              "\n",
              "    .dataframe thead th {\n",
              "        text-align: right;\n",
              "    }\n",
              "</style>\n",
              "<table border=\"1\" class=\"dataframe\">\n",
              "  <thead>\n",
              "    <tr style=\"text-align: right;\">\n",
              "      <th></th>\n",
              "      <th>text</th>\n",
              "      <th>likes</th>\n",
              "      <th>retweets</th>\n",
              "      <th>following</th>\n",
              "      <th>followers</th>\n",
              "      <th>history_tweets</th>\n",
              "      <th>tweet_length</th>\n",
              "      <th>tweet_hashtag</th>\n",
              "      <th>tweet_mention</th>\n",
              "      <th>tweet_questionmark</th>\n",
              "      <th>tweet_emoji</th>\n",
              "      <th>bio_length</th>\n",
              "      <th>bio_hashtag</th>\n",
              "      <th>bio_mention</th>\n",
              "      <th>bio_emoji</th>\n",
              "      <th>account_age</th>\n",
              "    </tr>\n",
              "  </thead>\n",
              "  <tbody>\n",
              "    <tr>\n",
              "      <th>0</th>\n",
              "      <td>This is the new iPad Pro, available for $999 a...</td>\n",
              "      <td>3899</td>\n",
              "      <td>623</td>\n",
              "      <td>151</td>\n",
              "      <td>867147</td>\n",
              "      <td>6485</td>\n",
              "      <td>66</td>\n",
              "      <td>1</td>\n",
              "      <td>0</td>\n",
              "      <td>0</td>\n",
              "      <td>0</td>\n",
              "      <td>53</td>\n",
              "      <td>0</td>\n",
              "      <td>0</td>\n",
              "      <td>0</td>\n",
              "      <td>10</td>\n",
              "    </tr>\n",
              "  </tbody>\n",
              "</table>\n",
              "</div>"
            ],
            "text/plain": [
              "                                                text  likes  retweets  \\\n",
              "0  This is the new iPad Pro, available for $999 a...   3899       623   \n",
              "\n",
              "   following  followers  history_tweets  tweet_length  tweet_hashtag  \\\n",
              "0        151     867147            6485            66              1   \n",
              "\n",
              "   tweet_mention  tweet_questionmark  tweet_emoji  bio_length  bio_hashtag  \\\n",
              "0              0                   0            0          53            0   \n",
              "\n",
              "   bio_mention  bio_emoji  account_age  \n",
              "0            0          0           10  "
            ]
          },
          "execution_count": 53,
          "metadata": {},
          "output_type": "execute_result"
        }
      ],
      "source": [
        "data_df.head()"
      ]
    },
    {
      "cell_type": "code",
      "execution_count": 54,
      "metadata": {},
      "outputs": [],
      "source": [
        "datapath = \"C:/Users/ramya/Documents/Master Final Project/Phase 2/Project/data.csv\"\n",
        "data_df.to_csv(datapath, index=False)"
      ]
    }
  ],
  "metadata": {
    "colab": {
      "provenance": []
    },
    "kernelspec": {
      "display_name": "Python 3",
      "name": "python3"
    },
    "language_info": {
      "codemirror_mode": {
        "name": "ipython",
        "version": 3
      },
      "file_extension": ".py",
      "mimetype": "text/x-python",
      "name": "python",
      "nbconvert_exporter": "python",
      "pygments_lexer": "ipython3",
      "version": "3.11.3"
    }
  },
  "nbformat": 4,
  "nbformat_minor": 0
}
